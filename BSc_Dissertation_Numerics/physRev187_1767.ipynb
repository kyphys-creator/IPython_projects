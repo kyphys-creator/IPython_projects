{
 "cells": [
  {
   "cell_type": "code",
   "execution_count": 1,
   "metadata": {},
   "outputs": [],
   "source": [
    "#importing packages\n",
    "import matplotlib.pyplot as plt\n",
    "from mpl_toolkits.mplot3d import Axes3D\n",
    "from matplotlib import cm\n",
    "from matplotlib.ticker import LinearLocator, FormatStrFormatter\n",
    "import matplotlib.animation as animation\n",
    "from scipy.misc import derivative\n",
    "import numpy as np\n",
    "import astropy.units as u\n",
    "from astropy.table import Table\n",
    "from astropy import constants as const\n",
    "import pandas as pd\n",
    "import sympy as sp\n",
    "import decimal\n",
    "import seaborn as sns\n",
    "decimal.getcontext().prec = 100\n",
    "import scipy as sci\n",
    "from scipy import integrate"
   ]
  },
  {
   "cell_type": "code",
   "execution_count": 2,
   "metadata": {},
   "outputs": [
    {
     "data": {
      "text/html": [
       "<div>\n",
       "<style scoped>\n",
       "    .dataframe tbody tr th:only-of-type {\n",
       "        vertical-align: middle;\n",
       "    }\n",
       "\n",
       "    .dataframe tbody tr th {\n",
       "        vertical-align: top;\n",
       "    }\n",
       "\n",
       "    .dataframe thead th {\n",
       "        text-align: right;\n",
       "    }\n",
       "</style>\n",
       "<table border=\"1\" class=\"dataframe\">\n",
       "  <thead>\n",
       "    <tr style=\"text-align: right;\">\n",
       "      <th></th>\n",
       "      <th>r</th>\n",
       "      <th>phi</th>\n",
       "    </tr>\n",
       "  </thead>\n",
       "  <tbody>\n",
       "    <tr>\n",
       "      <th>0</th>\n",
       "      <td>0.00692</td>\n",
       "      <td>0.08329</td>\n",
       "    </tr>\n",
       "    <tr>\n",
       "      <th>1</th>\n",
       "      <td>1.04637</td>\n",
       "      <td>0.08214</td>\n",
       "    </tr>\n",
       "    <tr>\n",
       "      <th>2</th>\n",
       "      <td>2.08581</td>\n",
       "      <td>0.07883</td>\n",
       "    </tr>\n",
       "    <tr>\n",
       "      <th>3</th>\n",
       "      <td>3.12526</td>\n",
       "      <td>0.07371</td>\n",
       "    </tr>\n",
       "    <tr>\n",
       "      <th>4</th>\n",
       "      <td>4.16470</td>\n",
       "      <td>0.06724</td>\n",
       "    </tr>\n",
       "    <tr>\n",
       "      <th>5</th>\n",
       "      <td>5.20415</td>\n",
       "      <td>0.05997</td>\n",
       "    </tr>\n",
       "    <tr>\n",
       "      <th>6</th>\n",
       "      <td>6.24359</td>\n",
       "      <td>0.05240</td>\n",
       "    </tr>\n",
       "    <tr>\n",
       "      <th>7</th>\n",
       "      <td>7.28304</td>\n",
       "      <td>0.04497</td>\n",
       "    </tr>\n",
       "    <tr>\n",
       "      <th>8</th>\n",
       "      <td>8.32248</td>\n",
       "      <td>0.03798</td>\n",
       "    </tr>\n",
       "    <tr>\n",
       "      <th>9</th>\n",
       "      <td>9.36193</td>\n",
       "      <td>0.03164</td>\n",
       "    </tr>\n",
       "    <tr>\n",
       "      <th>10</th>\n",
       "      <td>10.40137</td>\n",
       "      <td>0.02605</td>\n",
       "    </tr>\n",
       "    <tr>\n",
       "      <th>11</th>\n",
       "      <td>11.44081</td>\n",
       "      <td>0.02122</td>\n",
       "    </tr>\n",
       "    <tr>\n",
       "      <th>12</th>\n",
       "      <td>12.48026</td>\n",
       "      <td>0.01714</td>\n",
       "    </tr>\n",
       "    <tr>\n",
       "      <th>13</th>\n",
       "      <td>13.51971</td>\n",
       "      <td>0.01374</td>\n",
       "    </tr>\n",
       "    <tr>\n",
       "      <th>14</th>\n",
       "      <td>14.55915</td>\n",
       "      <td>0.01095</td>\n",
       "    </tr>\n",
       "    <tr>\n",
       "      <th>15</th>\n",
       "      <td>15.59859</td>\n",
       "      <td>0.00867</td>\n",
       "    </tr>\n",
       "    <tr>\n",
       "      <th>16</th>\n",
       "      <td>16.63803</td>\n",
       "      <td>0.00683</td>\n",
       "    </tr>\n",
       "    <tr>\n",
       "      <th>17</th>\n",
       "      <td>17.67747</td>\n",
       "      <td>0.00536</td>\n",
       "    </tr>\n",
       "    <tr>\n",
       "      <th>18</th>\n",
       "      <td>18.71693</td>\n",
       "      <td>0.00419</td>\n",
       "    </tr>\n",
       "    <tr>\n",
       "      <th>19</th>\n",
       "      <td>19.06340</td>\n",
       "      <td>0.00386</td>\n",
       "    </tr>\n",
       "    <tr>\n",
       "      <th>20</th>\n",
       "      <td>20.10285</td>\n",
       "      <td>0.00300</td>\n",
       "    </tr>\n",
       "    <tr>\n",
       "      <th>21</th>\n",
       "      <td>21.14230</td>\n",
       "      <td>0.00233</td>\n",
       "    </tr>\n",
       "  </tbody>\n",
       "</table>\n",
       "</div>"
      ],
      "text/plain": [
       "           r      phi\n",
       "0    0.00692  0.08329\n",
       "1    1.04637  0.08214\n",
       "2    2.08581  0.07883\n",
       "3    3.12526  0.07371\n",
       "4    4.16470  0.06724\n",
       "5    5.20415  0.05997\n",
       "6    6.24359  0.05240\n",
       "7    7.28304  0.04497\n",
       "8    8.32248  0.03798\n",
       "9    9.36193  0.03164\n",
       "10  10.40137  0.02605\n",
       "11  11.44081  0.02122\n",
       "12  12.48026  0.01714\n",
       "13  13.51971  0.01374\n",
       "14  14.55915  0.01095\n",
       "15  15.59859  0.00867\n",
       "16  16.63803  0.00683\n",
       "17  17.67747  0.00536\n",
       "18  18.71693  0.00419\n",
       "19  19.06340  0.00386\n",
       "20  20.10285  0.00300\n",
       "21  21.14230  0.00233"
      ]
     },
     "execution_count": 2,
     "metadata": {},
     "output_type": "execute_result"
    }
   ],
   "source": [
    "df = pd.read_csv('physRev187_1767.csv')\n",
    "df"
   ]
  },
  {
   "cell_type": "code",
   "execution_count": 3,
   "metadata": {},
   "outputs": [
    {
     "data": {
      "text/plain": [
       "<AxesSubplot:xlabel='r'>"
      ]
     },
     "execution_count": 3,
     "metadata": {},
     "output_type": "execute_result"
    },
    {
     "data": {
      "image/png": "[encoded data removed]",
      "text/plain": [
       "<Figure size 432x288 with 1 Axes>"
      ]
     },
     "metadata": {
      "needs_background": "light"
     },
     "output_type": "display_data"
    }
   ],
   "source": [
    "df.plot(x = 'r', y = 'phi', logy= True)\n",
    "#plt.ylim(1e-3, 1)\n",
    "#plt.xlim(1e-3, 1e2)"
   ]
  },
  {
   "cell_type": "code",
   "execution_count": 4,
   "metadata": {},
   "outputs": [],
   "source": [
    "m = 1e-12 * u.eV\n",
    "M = 1.3e12 * const.M_sun\n",
    "df['R'] = df['r'] * ((2 * const.G * m**2 * M)/((const.c**2 * const.hbar)**2)).cgs.value\n",
    "df['rho'] = df['phi'] * df['phi'] * (np.sqrt(2 * np.pi * M.cgs.value) * ((2 * const.G * m**2 * M / (const.c**(2) * const.hbar)**2)**(1.5)).cgs.value)**2 / const.M_sun.cgs.value"
   ]
  },
  {
   "cell_type": "code",
   "execution_count": 5,
   "metadata": {},
   "outputs": [
    {
     "data": {
      "text/latex": [
       "$985.98574 \\; \\mathrm{\\frac{1}{cm}}$"
      ],
      "text/plain": [
       "<Quantity 985.9857438 1 / cm>"
      ]
     },
     "execution_count": 5,
     "metadata": {},
     "output_type": "execute_result"
    }
   ],
   "source": [
    "((2 * const.G * m**2 * M)/((const.c**(2) * const.hbar)**2)).cgs"
   ]
  },
  {
   "cell_type": "code",
   "execution_count": 6,
   "metadata": {},
   "outputs": [
    {
     "data": {
      "text/latex": [
       "$7.8295198 \\times 10^{21} \\; \\mathrm{\\frac{g}{cm^{3}}}$"
      ],
      "text/plain": [
       "<Quantity 7.82951981e+21 g / cm3>"
      ]
     },
     "execution_count": 6,
     "metadata": {},
     "output_type": "execute_result"
    }
   ],
   "source": [
    "(np.sqrt(2 * np.pi * M.cgs)* ((2 * const.G * m**2 * M / (const.c**2 * const.hbar)**2)**(1.5)).cgs)**2/ const.M_sun.cgs.value"
   ]
  },
  {
   "cell_type": "code",
   "execution_count": 7,
   "metadata": {},
   "outputs": [
    {
     "data": {
      "text/html": [
       "<div>\n",
       "<style scoped>\n",
       "    .dataframe tbody tr th:only-of-type {\n",
       "        vertical-align: middle;\n",
       "    }\n",
       "\n",
       "    .dataframe tbody tr th {\n",
       "        vertical-align: top;\n",
       "    }\n",
       "\n",
       "    .dataframe thead th {\n",
       "        text-align: right;\n",
       "    }\n",
       "</style>\n",
       "<table border=\"1\" class=\"dataframe\">\n",
       "  <thead>\n",
       "    <tr style=\"text-align: right;\">\n",
       "      <th></th>\n",
       "      <th>r</th>\n",
       "      <th>phi</th>\n",
       "      <th>R</th>\n",
       "      <th>rho</th>\n",
       "    </tr>\n",
       "  </thead>\n",
       "  <tbody>\n",
       "    <tr>\n",
       "      <th>0</th>\n",
       "      <td>0.00692</td>\n",
       "      <td>0.08329</td>\n",
       "      <td>6.823021</td>\n",
       "      <td>5.431513e+19</td>\n",
       "    </tr>\n",
       "    <tr>\n",
       "      <th>1</th>\n",
       "      <td>1.04637</td>\n",
       "      <td>0.08214</td>\n",
       "      <td>1031.705903</td>\n",
       "      <td>5.282561e+19</td>\n",
       "    </tr>\n",
       "    <tr>\n",
       "      <th>2</th>\n",
       "      <td>2.08581</td>\n",
       "      <td>0.07883</td>\n",
       "      <td>2056.578924</td>\n",
       "      <td>4.865396e+19</td>\n",
       "    </tr>\n",
       "    <tr>\n",
       "      <th>3</th>\n",
       "      <td>3.12526</td>\n",
       "      <td>0.07371</td>\n",
       "      <td>3081.461806</td>\n",
       "      <td>4.253907e+19</td>\n",
       "    </tr>\n",
       "    <tr>\n",
       "      <th>4</th>\n",
       "      <td>4.16470</td>\n",
       "      <td>0.06724</td>\n",
       "      <td>4106.334827</td>\n",
       "      <td>3.539896e+19</td>\n",
       "    </tr>\n",
       "    <tr>\n",
       "      <th>5</th>\n",
       "      <td>5.20415</td>\n",
       "      <td>0.05997</td>\n",
       "      <td>5131.217709</td>\n",
       "      <td>2.815809e+19</td>\n",
       "    </tr>\n",
       "    <tr>\n",
       "      <th>6</th>\n",
       "      <td>6.24359</td>\n",
       "      <td>0.05240</td>\n",
       "      <td>6156.090730</td>\n",
       "      <td>2.149798e+19</td>\n",
       "    </tr>\n",
       "    <tr>\n",
       "      <th>7</th>\n",
       "      <td>7.28304</td>\n",
       "      <td>0.04497</td>\n",
       "      <td>7180.973612</td>\n",
       "      <td>1.583364e+19</td>\n",
       "    </tr>\n",
       "    <tr>\n",
       "      <th>8</th>\n",
       "      <td>8.32248</td>\n",
       "      <td>0.03798</td>\n",
       "      <td>8205.846633</td>\n",
       "      <td>1.129393e+19</td>\n",
       "    </tr>\n",
       "    <tr>\n",
       "      <th>9</th>\n",
       "      <td>9.36193</td>\n",
       "      <td>0.03164</td>\n",
       "      <td>9230.729514</td>\n",
       "      <td>7.838051e+18</td>\n",
       "    </tr>\n",
       "    <tr>\n",
       "      <th>10</th>\n",
       "      <td>10.40137</td>\n",
       "      <td>0.02605</td>\n",
       "      <td>10255.602536</td>\n",
       "      <td>5.313132e+18</td>\n",
       "    </tr>\n",
       "    <tr>\n",
       "      <th>11</th>\n",
       "      <td>11.44081</td>\n",
       "      <td>0.02122</td>\n",
       "      <td>11280.475558</td>\n",
       "      <td>3.525542e+18</td>\n",
       "    </tr>\n",
       "    <tr>\n",
       "      <th>12</th>\n",
       "      <td>12.48026</td>\n",
       "      <td>0.01714</td>\n",
       "      <td>12305.358439</td>\n",
       "      <td>2.300153e+18</td>\n",
       "    </tr>\n",
       "    <tr>\n",
       "      <th>13</th>\n",
       "      <td>13.51971</td>\n",
       "      <td>0.01374</td>\n",
       "      <td>13330.241320</td>\n",
       "      <td>1.478116e+18</td>\n",
       "    </tr>\n",
       "    <tr>\n",
       "      <th>14</th>\n",
       "      <td>14.55915</td>\n",
       "      <td>0.01095</td>\n",
       "      <td>14355.114342</td>\n",
       "      <td>9.387790e+17</td>\n",
       "    </tr>\n",
       "    <tr>\n",
       "      <th>15</th>\n",
       "      <td>15.59859</td>\n",
       "      <td>0.00867</td>\n",
       "      <td>15379.987363</td>\n",
       "      <td>5.885364e+17</td>\n",
       "    </tr>\n",
       "    <tr>\n",
       "      <th>16</th>\n",
       "      <td>16.63803</td>\n",
       "      <td>0.00683</td>\n",
       "      <td>16404.860385</td>\n",
       "      <td>3.652385e+17</td>\n",
       "    </tr>\n",
       "    <tr>\n",
       "      <th>17</th>\n",
       "      <td>17.67747</td>\n",
       "      <td>0.00536</td>\n",
       "      <td>17429.733407</td>\n",
       "      <td>2.249390e+17</td>\n",
       "    </tr>\n",
       "    <tr>\n",
       "      <th>18</th>\n",
       "      <td>18.71693</td>\n",
       "      <td>0.00419</td>\n",
       "      <td>18454.626148</td>\n",
       "      <td>1.374558e+17</td>\n",
       "    </tr>\n",
       "    <tr>\n",
       "      <th>19</th>\n",
       "      <td>19.06340</td>\n",
       "      <td>0.00386</td>\n",
       "      <td>18796.240628</td>\n",
       "      <td>1.166567e+17</td>\n",
       "    </tr>\n",
       "    <tr>\n",
       "      <th>20</th>\n",
       "      <td>20.10285</td>\n",
       "      <td>0.00300</td>\n",
       "      <td>19821.123510</td>\n",
       "      <td>7.046568e+16</td>\n",
       "    </tr>\n",
       "    <tr>\n",
       "      <th>21</th>\n",
       "      <td>21.14230</td>\n",
       "      <td>0.00233</td>\n",
       "      <td>20846.006391</td>\n",
       "      <td>4.250568e+16</td>\n",
       "    </tr>\n",
       "  </tbody>\n",
       "</table>\n",
       "</div>"
      ],
      "text/plain": [
       "           r      phi             R           rho\n",
       "0    0.00692  0.08329      6.823021  5.431513e+19\n",
       "1    1.04637  0.08214   1031.705903  5.282561e+19\n",
       "2    2.08581  0.07883   2056.578924  4.865396e+19\n",
       "3    3.12526  0.07371   3081.461806  4.253907e+19\n",
       "4    4.16470  0.06724   4106.334827  3.539896e+19\n",
       "5    5.20415  0.05997   5131.217709  2.815809e+19\n",
       "6    6.24359  0.05240   6156.090730  2.149798e+19\n",
       "7    7.28304  0.04497   7180.973612  1.583364e+19\n",
       "8    8.32248  0.03798   8205.846633  1.129393e+19\n",
       "9    9.36193  0.03164   9230.729514  7.838051e+18\n",
       "10  10.40137  0.02605  10255.602536  5.313132e+18\n",
       "11  11.44081  0.02122  11280.475558  3.525542e+18\n",
       "12  12.48026  0.01714  12305.358439  2.300153e+18\n",
       "13  13.51971  0.01374  13330.241320  1.478116e+18\n",
       "14  14.55915  0.01095  14355.114342  9.387790e+17\n",
       "15  15.59859  0.00867  15379.987363  5.885364e+17\n",
       "16  16.63803  0.00683  16404.860385  3.652385e+17\n",
       "17  17.67747  0.00536  17429.733407  2.249390e+17\n",
       "18  18.71693  0.00419  18454.626148  1.374558e+17\n",
       "19  19.06340  0.00386  18796.240628  1.166567e+17\n",
       "20  20.10285  0.00300  19821.123510  7.046568e+16\n",
       "21  21.14230  0.00233  20846.006391  4.250568e+16"
      ]
     },
     "execution_count": 7,
     "metadata": {},
     "output_type": "execute_result"
    }
   ],
   "source": [
    "df"
   ]
  },
  {
   "cell_type": "code",
   "execution_count": 8,
   "metadata": {},
   "outputs": [],
   "source": [
    "df.to_csv('dataFrame.csv')"
   ]
  },
  {
   "cell_type": "code",
   "execution_count": 11,
   "metadata": {},
   "outputs": [
    {
     "data": {
      "text/html": [
       "<div>\n",
       "<style scoped>\n",
       "    .dataframe tbody tr th:only-of-type {\n",
       "        vertical-align: middle;\n",
       "    }\n",
       "\n",
       "    .dataframe tbody tr th {\n",
       "        vertical-align: top;\n",
       "    }\n",
       "\n",
       "    .dataframe thead th {\n",
       "        text-align: right;\n",
       "    }\n",
       "</style>\n",
       "<table border=\"1\" class=\"dataframe\">\n",
       "  <thead>\n",
       "    <tr style=\"text-align: right;\">\n",
       "      <th></th>\n",
       "      <th>r</th>\n",
       "      <th>phi</th>\n",
       "      <th>R</th>\n",
       "      <th>rho</th>\n",
       "    </tr>\n",
       "  </thead>\n",
       "  <tbody>\n",
       "    <tr>\n",
       "      <th>0</th>\n",
       "      <td>0.00692</td>\n",
       "      <td>0.08329</td>\n",
       "      <td>6.823021</td>\n",
       "      <td>5.430000e+19</td>\n",
       "    </tr>\n",
       "    <tr>\n",
       "      <th>1</th>\n",
       "      <td>1.04637</td>\n",
       "      <td>0.08214</td>\n",
       "      <td>1031.705903</td>\n",
       "      <td>5.280000e+19</td>\n",
       "    </tr>\n",
       "    <tr>\n",
       "      <th>2</th>\n",
       "      <td>2.08581</td>\n",
       "      <td>0.07883</td>\n",
       "      <td>2056.578924</td>\n",
       "      <td>4.870000e+19</td>\n",
       "    </tr>\n",
       "    <tr>\n",
       "      <th>3</th>\n",
       "      <td>3.12526</td>\n",
       "      <td>0.07371</td>\n",
       "      <td>3081.461806</td>\n",
       "      <td>4.250000e+19</td>\n",
       "    </tr>\n",
       "    <tr>\n",
       "      <th>4</th>\n",
       "      <td>4.16470</td>\n",
       "      <td>0.06724</td>\n",
       "      <td>4106.334827</td>\n",
       "      <td>3.540000e+19</td>\n",
       "    </tr>\n",
       "    <tr>\n",
       "      <th>...</th>\n",
       "      <td>...</td>\n",
       "      <td>...</td>\n",
       "      <td>...</td>\n",
       "      <td>...</td>\n",
       "    </tr>\n",
       "    <tr>\n",
       "      <th>94</th>\n",
       "      <td>NaN</td>\n",
       "      <td>NaN</td>\n",
       "      <td>93846.006390</td>\n",
       "      <td>1.500000e-03</td>\n",
       "    </tr>\n",
       "    <tr>\n",
       "      <th>95</th>\n",
       "      <td>NaN</td>\n",
       "      <td>NaN</td>\n",
       "      <td>94846.006390</td>\n",
       "      <td>1.420000e-03</td>\n",
       "    </tr>\n",
       "    <tr>\n",
       "      <th>96</th>\n",
       "      <td>NaN</td>\n",
       "      <td>NaN</td>\n",
       "      <td>95846.006390</td>\n",
       "      <td>1.340000e-03</td>\n",
       "    </tr>\n",
       "    <tr>\n",
       "      <th>97</th>\n",
       "      <td>NaN</td>\n",
       "      <td>NaN</td>\n",
       "      <td>96846.006390</td>\n",
       "      <td>1.270000e-03</td>\n",
       "    </tr>\n",
       "    <tr>\n",
       "      <th>98</th>\n",
       "      <td>NaN</td>\n",
       "      <td>NaN</td>\n",
       "      <td>97846.006390</td>\n",
       "      <td>1.210000e-03</td>\n",
       "    </tr>\n",
       "  </tbody>\n",
       "</table>\n",
       "<p>99 rows × 4 columns</p>\n",
       "</div>"
      ],
      "text/plain": [
       "          r      phi             R           rho\n",
       "0   0.00692  0.08329      6.823021  5.430000e+19\n",
       "1   1.04637  0.08214   1031.705903  5.280000e+19\n",
       "2   2.08581  0.07883   2056.578924  4.870000e+19\n",
       "3   3.12526  0.07371   3081.461806  4.250000e+19\n",
       "4   4.16470  0.06724   4106.334827  3.540000e+19\n",
       "..      ...      ...           ...           ...\n",
       "94      NaN      NaN  93846.006390  1.500000e-03\n",
       "95      NaN      NaN  94846.006390  1.420000e-03\n",
       "96      NaN      NaN  95846.006390  1.340000e-03\n",
       "97      NaN      NaN  96846.006390  1.270000e-03\n",
       "98      NaN      NaN  97846.006390  1.210000e-03\n",
       "\n",
       "[99 rows x 4 columns]"
      ]
     },
     "execution_count": 11,
     "metadata": {},
     "output_type": "execute_result"
    }
   ],
   "source": [
    "df2 = pd.read_csv('dataFrame2.csv')\n",
    "df2"
   ]
  },
  {
   "cell_type": "code",
   "execution_count": 12,
   "metadata": {},
   "outputs": [
    {
     "data": {
      "image/png": "[encoded data removed]",
      "text/plain": [
       "<Figure size 432x288 with 1 Axes>"
      ]
     },
     "metadata": {
      "needs_background": "light"
     },
     "output_type": "display_data"
    }
   ],
   "source": [
    "df2.plot(x = 'R', y = 'rho')\n",
    "plt.ylabel(r'Mass density [$M_{\\odot}$]')\n",
    "plt.xlabel(r'Radius [pc]')\n",
    "plt.xscale('log')\n",
    "plt.yscale('log')"
   ]
  },
  {
   "cell_type": "code",
   "execution_count": 19,
   "metadata": {},
   "outputs": [
    {
     "name": "stderr",
     "output_type": "stream",
     "text": [
      "<ipython-input-19-e9efc34d133c>:13: RuntimeWarning: divide by zero encountered in true_divide\n",
      "  y = 6e11 / np.sqrt(x - 1e4)\n"
     ]
    },
    {
     "data": {
      "text/plain": [
       "<matplotlib.legend.Legend at 0x7fd7db9f9610>"
      ]
     },
     "execution_count": 19,
     "metadata": {},
     "output_type": "execute_result"
    },
    {
     "data": {
      "image/png": "[encoded data removed]",
      "text/plain": [
       "<Figure size 432x288 with 1 Axes>"
      ]
     },
     "metadata": {
      "needs_background": "light"
     },
     "output_type": "display_data"
    }
   ],
   "source": [
    "def Vrot(R):\n",
    "    result = 4 * np.pi * const.G.cgs.value\n",
    "    result /= df2['R'].iloc[R+2]\n",
    "    Rlist = df2['R'].iloc[0:R+2]\n",
    "    rholist = df2['rho'][0:R+2]\n",
    "    integral = integrate.simpson(Rlist**2 * rholist, Rlist)\n",
    "    return np.sqrt(result * integral)\n",
    "\n",
    "rotVel = np.ndarray(len(df2['R']) - 2)\n",
    "for i in range(len(df2['R']) - 2):\n",
    "    rotVel[i] = Vrot(i)\n",
    "x = np.linspace(1e4, 1e5, 100)\n",
    "y = 6e11 / np.sqrt(x - 1e4)\n",
    "\n",
    "plt.plot(df2['R'][1:len(df2['R']) - 1], rotVel, label = 'BEC DM density profile')\n",
    "plt.plot(x, y, label = 'Expected result without DM', linestyle = 'dashed')\n",
    "plt.xlim(1e3, 4e4)\n",
    "plt.yscale('log')\n",
    "#plt.xscale('log')\n",
    "plt.xlabel('Radius [pc]')\n",
    "plt.ylabel('Rotational Velocity')\n",
    "plt.legend()"
   ]
  },
  {
   "attachments": {},
   "cell_type": "markdown",
   "metadata": {},
   "source": [
    "$$\n",
    "{\\df }\n",
    "$$"
   ]
  },
  {
   "cell_type": "code",
   "execution_count": null,
   "metadata": {},
   "outputs": [],
   "source": []
  }
 ],
 "metadata": {
  "kernelspec": {
   "display_name": "base",
   "language": "python",
   "name": "python3"
  },
  "language_info": {
   "codemirror_mode": {
    "name": "ipython",
    "version": 3
   },
   "file_extension": ".py",
   "mimetype": "text/x-python",
   "name": "python",
   "nbconvert_exporter": "python",
   "pygments_lexer": "ipython3",
   "version": "3.8.8 (default, Apr 13 2021, 12:59:45) \n[Clang 10.0.0 ]"
  },
  "orig_nbformat": 4,
  "vscode": {
   "interpreter": {
    "hash": "33cb3d8d213d1cbd7539e9dd68bf5c369f4e784fb2f85ef7ae8127353423ec7b"
   }
  }
 },
 "nbformat": 4,
 "nbformat_minor": 2
}
