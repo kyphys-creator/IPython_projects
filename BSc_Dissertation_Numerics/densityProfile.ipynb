{
 "cells": [
  {
   "cell_type": "code",
   "execution_count": 1,
   "metadata": {},
   "outputs": [],
   "source": [
    "#importing packages\n",
    "import matplotlib.pyplot as plt\n",
    "from mpl_toolkits.mplot3d import Axes3D\n",
    "from matplotlib import cm\n",
    "from matplotlib.ticker import LinearLocator, FormatStrFormatter\n",
    "import matplotlib.animation as animation\n",
    "from scipy.misc import derivative\n",
    "import numpy as np\n",
    "import astropy.units as u\n",
    "from astropy.table import Table\n",
    "from astropy import constants as const\n",
    "import pandas as pd\n",
    "import sympy as sp\n",
    "import decimal\n",
    "import seaborn as sns\n",
    "decimal.getcontext().prec = 100\n",
    "import scipy as sci\n",
    "from scipy import integrate"
   ]
  },
  {
   "attachments": {},
   "cell_type": "markdown",
   "metadata": {},
   "source": [
    "$$\n",
    "    % These colors are friendly to colorblind.\n",
    "    %\\newcommand{\\red}[1]{{\\color{red}#1}}\n",
    "    %\\newcommand{\\green}[1]{{\\color{green}#1}}\n",
    "    %\\newcommand{\\blue}[1]{{\\color{blue}#1}}\n",
    "    %\\newcommand{\\cyan}[1]{{\\color{cyan}#1}}\n",
    "    %\\newcommand{\\magenta}[1]{{\\color{magenta}#1}}\n",
    "    %\\newcommand{\\yellow}[1]{{\\color{yellow}#1}}\n",
    "    %\\newcommand{\\orange}[1]{{\\color{orange}#1}}\n",
    "    \\newcommand{\\mysquare}[1]{#1^2}\n",
    "    \\newcommand{\\df}{\\text{d}}\n",
    "    \\newcommand{\\Df}{\\mathcal{D}}\n",
    "    \\newcommand{\\Lag}{\\mathcal{L}}\n",
    "    \\newcommand{\\bp}{\\begin{pmatrix}}\n",
    "    \\newcommand{\\ep}{\\end{pmatrix}}\n",
    "    \\newcommand{\\bb}{\\begin{bmatrix}}\n",
    "    \\newcommand{\\eb}{\\end{bmatrix}}\n",
    "    \\newcommand{\\bmat}[1]{\\begin{bmatrix}#1\\end{bmatrix}}\n",
    "    \\newcommand{\\pmat}[1]{\\begin{pmatrix}#1\\end{pmatrix}}\n",
    "    \\newcommand{\\vmat}[1]{\\begin{vmatrix}#1\\end{vmatrix}}\n",
    "    \\newcommand{\\diag}{diag}\n",
    "    \\newcommand{\\tr}{\\text{Tr}}\n",
    "    \\newcommand{\\PLC}{PLC}\n",
    "    \\renewcommand{\\argmin}{arg\\,min}\n",
    "    \\renewcommand{\\argmax}{arg\\,max}\n",
    "    \\newcommand{\\sign}{sign}\n",
    "    \\newcommand{\\arccosh}{arccosh}\n",
    "    \\newcommand{\\re}{Re}\n",
    "    \\newcommand{\\im}{Im}\n",
    "    \\newcommand{\\grad}{grad}\n",
    "    \\newcommand{\\divergence}{div}\n",
    "    \\newcommand{\\rot}{rot}\n",
    "    \\newcommand{\\curl}{curl}\n",
    "    \\newcommand{\\Res}{Res}\n",
    "    \\newcommand{\\bs}[1]{{\\boldsymbol{#1}}}\n",
    "    \\newcommand{\\bh}[1]{\\hat{\\boldsymbol{#1}}}\n",
    "    \\newcommand{\\bv}[1]{\\overrightarrow{\\boldsymbol{#1}}}\n",
    "    \\newcommand{\\al}[1]{\\begin{align}#1\\end{align}}\n",
    "    \\newcommand{\\als}[1]{\\begin{align*}#1\\end{align*}}\n",
    "    \\newcommand{\\ol}{\\overline}\n",
    "    \\newcommand{\\ul}{\\protect\\underline}\n",
    "    \\newcommand{\\ab}[1]{\\left|#1\\right|}\n",
    "    \\newcommand{\\abb}[1]{\\left\\|#1\\right\\|}\n",
    "    \\newcommand{\\paren}[1]{\\left(#1\\right)}\n",
    "    \\newcommand{\\pn}[1]{\\left(#1\\right)}\n",
    "    \\newcommand{\\sparen}[1]{(#1)} % small parentheses\n",
    "    \\newcommand{\\sqbr}[1]{\\left[#1\\right]}\n",
    "    \\newcommand{\\br}[1]{\\left\\{#1\\right\\}} % brace\n",
    "    \\newcommand{\\fn}[1]{\\!\\paren{#1}} % function\n",
    "    \\newcommand{\\Ab}[1]{\\bigl|#1\\bigr|}\n",
    "    \\newcommand{\\Abb}[1]{\\bigl\\|#1\\bigr\\|}\n",
    "    \\newcommand{\\Paren}[1]{\\bigl(#1\\bigr)}\n",
    "    \\newcommand{\\Pn}[1]{\\bigl(#1\\bigr)}\n",
    "    \\newcommand{\\Sqbr}[1]{\\bigl[#1\\bigr]}\n",
    "    \\newcommand{\\Br}[1]{\\bigl\\{#1\\bigr\\}} % brace\n",
    "    \\newcommand{\\Fn}[1]{\\!\\Pn{#1}} % function\n",
    "    \\newcommand{\\wt}{\\widetilde}\n",
    "    \\newcommand{\\nn}{\\nonumber\\\\}\n",
    "    \\newcommand{\\n}{\\nonumber}\n",
    "    \\newcommand{\\B}{\\ensuremath{\\bs B}}\n",
    "    \\newcommand{\\E}{\\ensuremath{\\bs E}}\n",
    "    \\newcommand{\\A}{\\ensuremath{\\bs A}}\n",
    "    \\newcommand{\\nab}{\\bs\\nabla}\n",
    "    \\newcommand{\\Lap}{\\nabla^2}\n",
    "    \\newcommand{\\p}{\\partial}\n",
    "    \\newcommand{\\Done}{{\\color{red}\\bf Done!}}\n",
    "    \\newcommand{\\sr}{\\stackrel}\n",
    "    \\newcommand{\\us}{\\underset}\n",
    "    \\newcommand{\\er}{\\eqref}\n",
    "    \\newcommand{\\ds}{\\displaystyle}\n",
    "    \\newcommand{\\ov}{\\over}\n",
    "    \\newcommand{\\L}{\\textsf{L}}\n",
    "    \\newcommand{\\M}{\\textsf{M}}\n",
    "    \\renewcommand{\\N}{\\textsf{N}}\n",
    "    \\newcommand{\\commutator}[2]{\\left[#1,\\,#2\\right]}\n",
    "    \\newcommand{\\tf}{\\textsf}\n",
    "    \\newcommand{\\tl}{\\textsl}\n",
    "    \\newcommand{\\tm}{\\textrm}\n",
    "    \\newcommand{\\mc}{\\mathcal}\n",
    "    \\newcommand{\\ms}{\\mathscr}\n",
    "    \\newcommand{\\lv}[1]{\\overrightarrow{#1}}\n",
    "    \\newcommand{\\Id}{Id}\n",
    "    \\renewcommand{\\nab}{\\bs\\nabla}\n",
    "    \\newcommand{\\refname}{参考文献}\n",
    "    \\newcommand{\\tauP}{\\tau_\\text{P}}\n",
    "    \\newcommand{\\xP}{x_\\text{P}}\n",
    "    \\renewcommand{\\P}{\\text{P}}\n",
    "    \\newcommand{\\tx}[1]{\\text{#1}}\n",
    "    \\newcommand{\\pr}{\\prime}\n",
    "$$"
   ]
  },
  {
   "cell_type": "code",
   "execution_count": 912,
   "metadata": {},
   "outputs": [
    {
     "name": "stderr",
     "output_type": "stream",
     "text": [
      "<ipython-input-912-e02a27ab3027>:34: RuntimeWarning: overflow encountered in double_scalars\n",
      "  k4 = (a * (2 * (y1[i] + (m3))**2) + (2 * (y3[i] + (l3))**2 /(y1[i] + (m3))) + (3 * (y2[i] + (n3))**4 / (y1[i] + (m3))**3) + (3 * (y4[i] + (k3)) * (y2[i] + (n3)) / (y1[i] + (m3))) - (7 * (y2[i] + (n3))**2 * (y3[i] + (l3))/ (y1[i] + (m3))**2)) * (x[i+1] - x[i])\n",
      "<ipython-input-912-e02a27ab3027>:19: RuntimeWarning: overflow encountered in double_scalars\n",
      "  k1 = (a * (2 * y1[i]**2) + (2 * y3[i]**2 /y1[i]) + (3 * y2[i]**4 / y1[i]**3) + (3 * y4[i] * y2[i] / y1[i]) - (7 * y2[i]**2 * y3[i]/ y1[i]**2)) * (x[i+1] - x[i])\n",
      "<ipython-input-912-e02a27ab3027>:19: RuntimeWarning: invalid value encountered in double_scalars\n",
      "  k1 = (a * (2 * y1[i]**2) + (2 * y3[i]**2 /y1[i]) + (3 * y2[i]**4 / y1[i]**3) + (3 * y4[i] * y2[i] / y1[i]) - (7 * y2[i]**2 * y3[i]/ y1[i]**2)) * (x[i+1] - x[i])\n",
      "<ipython-input-912-e02a27ab3027>:24: RuntimeWarning: overflow encountered in double_scalars\n",
      "  k2 = (a * (2 * (y1[i] + (m1 / 2))**2) + (2 * (y3[i] + (l1 / 2))**2 /(y1[i] + (m1 / 2))) + (3 * (y2[i] + (n1 / 2))**4 / (y1[i] + (m1 / 2))**3) + (3 * (y4[i] + (k1 / 2)) * (y2[i] + (n1 / 2)) / (y1[i] + (m1 / 2))) - (7 * (y2[i] + (n1 / 2))**2 * (y3[i] + (l1 / 2))/ (y1[i] + (m1 / 2))**2)) * (x[i+1] - x[i])\n",
      "<ipython-input-912-e02a27ab3027>:24: RuntimeWarning: invalid value encountered in double_scalars\n",
      "  k2 = (a * (2 * (y1[i] + (m1 / 2))**2) + (2 * (y3[i] + (l1 / 2))**2 /(y1[i] + (m1 / 2))) + (3 * (y2[i] + (n1 / 2))**4 / (y1[i] + (m1 / 2))**3) + (3 * (y4[i] + (k1 / 2)) * (y2[i] + (n1 / 2)) / (y1[i] + (m1 / 2))) - (7 * (y2[i] + (n1 / 2))**2 * (y3[i] + (l1 / 2))/ (y1[i] + (m1 / 2))**2)) * (x[i+1] - x[i])\n",
      "<ipython-input-912-e02a27ab3027>:29: RuntimeWarning: overflow encountered in double_scalars\n",
      "  k3 = (a * (2 * (y1[i] + (m2 / 2))**2) + (2 * (y3[i] + (l2 / 2))**2 /(y1[i] + (m2 / 2))) + (3 * (y2[i] + (n2 / 2))**4 / (y1[i] + (m2 / 2))**3) + (3 * (y4[i] + (k2 / 2)) * (y2[i] + (n2 / 2)) / (y1[i] + (m2 / 2))) - (7 * (y2[i] + (n2 / 2))**2 * (y3[i] + (l2 / 2))/ (y1[i] + (m2 / 2))**2)) * (x[i+1] - x[i])\n",
      "<ipython-input-912-e02a27ab3027>:29: RuntimeWarning: invalid value encountered in double_scalars\n",
      "  k3 = (a * (2 * (y1[i] + (m2 / 2))**2) + (2 * (y3[i] + (l2 / 2))**2 /(y1[i] + (m2 / 2))) + (3 * (y2[i] + (n2 / 2))**4 / (y1[i] + (m2 / 2))**3) + (3 * (y4[i] + (k2 / 2)) * (y2[i] + (n2 / 2)) / (y1[i] + (m2 / 2))) - (7 * (y2[i] + (n2 / 2))**2 * (y3[i] + (l2 / 2))/ (y1[i] + (m2 / 2))**2)) * (x[i+1] - x[i])\n"
     ]
    }
   ],
   "source": [
    "slice = 1e5\n",
    "end = (slice / 1e2)\n",
    "slice = int(slice)\n",
    "\n",
    "x = np.linspace(0, end, slice)\n",
    "y1 = np.linspace(1, 50, slice)\n",
    "y1[0] = 1e-2\n",
    "y2 = np.linspace(1, 50, slice)\n",
    "y2[0] = 0\n",
    "y3 = np.linspace(1, 50, slice)\n",
    "y3[0] = -1e5\n",
    "y4 = np.linspace(1, 50, slice)\n",
    "y4[0] = 0\n",
    "\n",
    "ma = 1e-12 * u.eV\n",
    "a = (4 * np.pi * const.G.cgs * ((ma / (const.hbar * const.c)).cgs)**2).value\n",
    "a\n",
    "for i in range(slice - 1):\n",
    "    k1 = (a * (2 * y1[i]**2) + (2 * y3[i]**2 /y1[i]) + (3 * y2[i]**4 / y1[i]**3) + (3 * y4[i] * y2[i] / y1[i]) - (7 * y2[i]**2 * y3[i]/ y1[i]**2)) * (x[i+1] - x[i])\n",
    "    l1 = y4[i] * (x[i+1] - x[i])\n",
    "    n1 = y3[i] * (x[i+1] - x[i])\n",
    "    m1 = y2[i] * (x[i+1] - x[i])\n",
    "\n",
    "    k2 = (a * (2 * (y1[i] + (m1 / 2))**2) + (2 * (y3[i] + (l1 / 2))**2 /(y1[i] + (m1 / 2))) + (3 * (y2[i] + (n1 / 2))**4 / (y1[i] + (m1 / 2))**3) + (3 * (y4[i] + (k1 / 2)) * (y2[i] + (n1 / 2)) / (y1[i] + (m1 / 2))) - (7 * (y2[i] + (n1 / 2))**2 * (y3[i] + (l1 / 2))/ (y1[i] + (m1 / 2))**2)) * (x[i+1] - x[i])\n",
    "    l2 = (y4[i] + (k1 / 2)) * (x[i+1] - x[i])\n",
    "    n2 = (y2[i] + (l1 / 2)) * (x[i+1] - x[i])\n",
    "    m2 = (y3[i] + (m1 / 2)) * (x[i+1] - x[i])\n",
    "\n",
    "    k3 = (a * (2 * (y1[i] + (m2 / 2))**2) + (2 * (y3[i] + (l2 / 2))**2 /(y1[i] + (m2 / 2))) + (3 * (y2[i] + (n2 / 2))**4 / (y1[i] + (m2 / 2))**3) + (3 * (y4[i] + (k2 / 2)) * (y2[i] + (n2 / 2)) / (y1[i] + (m2 / 2))) - (7 * (y2[i] + (n2 / 2))**2 * (y3[i] + (l2 / 2))/ (y1[i] + (m2 / 2))**2)) * (x[i+1] - x[i])\n",
    "    l3 = (y4[i] + (k2 / 2)) * (x[i+1] - x[i])\n",
    "    n3 = (y2[i] + (l2 / 2)) * (x[i+1] - x[i])\n",
    "    m3 = (y3[i] + (m2 / 2)) * (x[i+1] - x[i])\n",
    "\n",
    "    k4 = (a * (2 * (y1[i] + (m3))**2) + (2 * (y3[i] + (l3))**2 /(y1[i] + (m3))) + (3 * (y2[i] + (n3))**4 / (y1[i] + (m3))**3) + (3 * (y4[i] + (k3)) * (y2[i] + (n3)) / (y1[i] + (m3))) - (7 * (y2[i] + (n3))**2 * (y3[i] + (l3))/ (y1[i] + (m3))**2)) * (x[i+1] - x[i])\n",
    "    l4 = (y4[i] + (k3)) * (x[i+1] - x[i])\n",
    "    n4 = (y2[i] + (l3)) * (x[i+1] - x[i])\n",
    "    m4 = (y3[i] + (m3)) * (x[i+1] - x[i])\n",
    "\n",
    "    y4[i + 1] = y4[i] + (k1 + k2 + k3 + k4) / 6\n",
    "    y3[i + 1] = y3[i] + (l1 + l2 + l3 + l4) / 6\n",
    "    y2[i + 1] = y2[i] + (n1 + n2 + n3 + n4) / 6\n",
    "    y1[i + 1] = y1[i] + (m1 + m2 + m3 + m4) / 6"
   ]
  },
  {
   "cell_type": "code",
   "execution_count": 8,
   "metadata": {},
   "outputs": [],
   "source": [
    "slice = 1e5\n",
    "end = np.log10(slice / 1e2)\n",
    "slice = int(slice)\n",
    "\n",
    "x = np.logspace(0, end, slice)\n",
    "y1 = np.linspace(1, 50, slice)\n",
    "y1[0] = 1e5\n",
    "y2 = np.linspace(1, 50, slice)\n",
    "y2[0] = 0\n",
    "y3 = np.linspace(1, 50, slice)\n",
    "y3[0] = -1e-12\n",
    "y4 = np.linspace(1, 50, slice)\n",
    "y4[0] = 0\n",
    "\n",
    "ma = 1e-12 * u.eV\n",
    "a = (4 * np.pi * const.G.cgs * ((ma / (const.hbar * const.c)).cgs)**2).value\n",
    "a\n",
    "for i in range(slice - 1):\n",
    "    k1 = ((2 * a * y1[i]**2) + (3 * y2[i]**4 / y1[i]**3) - (y2[i]**2 / (x[i] * y1[1]**2) * (6 * y2[i] + 7 * x[i] * y3[i])) - (4 * y4[i] / x[i]) + (1 / (x[i] * y1[i]) * (2 * x[i] * y3[i]**2 + y2[i] * (10 * y3[i] + 3 * x[i] * y4[i])))) * (x[i+1] - x[i])\n",
    "    l1 = y4[i] * (x[i+1] - x[i])\n",
    "    n1 = y3[i] * (x[i+1] - x[i])\n",
    "    m1 = y2[i] * (x[i+1] - x[i])\n",
    "\n",
    "    k2 = ((2 * a * ((y1[i] + m1 / 2))**2) + (3 * (y2[i] + n1 / 2)**4 / ((y1[i] + m1 / 2))**3) - ((y2[i] + n1 / 2)**2 / ((x[i] + (x[i+1] - x[i]) / 2) * ((y1[1] + m1 / 2))**2) * (6 * (y2[i] + n1 / 2) + 7 * (x[i] + (x[i+1] - x[i]) / 2) * (y3[i] + l1 / 2))) - (4 * (y4[i] + k1 / 2) / (x[i] + (x[i+1] - x[i]) / 2)) + (1 / ((x[i] + (x[i+1] - x[i]) / 2) * ((y1[i] + m1 / 2))) * (2 * (x[i] + (x[i+1] - x[i]) / 2) * (y3[i] + l1 / 2)**2 + (y2[i] + n1 / 2) * (10 * (y3[i] + l1 / 2) + 3 * (x[i] + (x[i+1] - x[i]) / 2) * (y4[i] + k1 / 2))))) * (x[i+1] - x[i])\n",
    "    l2 = (y4[i] + (k1 / 2)) * (x[i+1] - x[i])\n",
    "    n2 = (y2[i] + (l1 / 2)) * (x[i+1] - x[i])\n",
    "    m2 = (y3[i] + (m1 / 2)) * (x[i+1] - x[i])\n",
    "\n",
    "    k3 = ((2 * a * ((y1[i] + m2 / 2))**2) + (3 * (y2[i] + n2 / 2)**4 / ((y1[i] + m2 / 2))**3) - ((y2[i] + n2 / 2)**2 / ((x[i] + (x[i+1] - x[i]) / 2) * ((y1[1] + m2 / 2))**2) * (6 * (y2[i] + n2 / 2) + 7 * (x[i] + (x[i+1] - x[i]) / 2) * (y3[i] + l2 / 2))) - (4 * (y4[i] + k2 / 2) / (x[i] + (x[i+1] - x[i]) / 2)) + (1 / ((x[i] + (x[i+1] - x[i]) / 2) * ((y1[i] + m2 / 2))) * (2 * (x[i] + (x[i+1] - x[i]) / 2) * (y3[i] + l2 / 2)**2 + (y2[i] + n2 / 2) * (10 * (y3[i] + l2 / 2) + 3 * (x[i] + (x[i+1] - x[i]) / 2) * (y4[i] + k2 / 2))))) * (x[i+1] - x[i])\n",
    "    l3 = (y4[i] + (k2 / 2)) * (x[i+1] - x[i])\n",
    "    n3 = (y2[i] + (l2 / 2)) * (x[i+1] - x[i])\n",
    "    m3 = (y3[i] + (m2 / 2)) * (x[i+1] - x[i])\n",
    "\n",
    "    k4 = ((2 * a * ((y1[i] + m3))**2) + (3 * (y2[i] + n3)**4 / ((y1[i] + m3))**3) - ((y2[i] + n3)**2 / ((x[i] + (x[i+1] - x[i])) * ((y1[1] + m3))**2) * (6 * (y2[i] + n3) + 7 * (x[i] + (x[i+1] - x[i])) * (y3[i] + l3))) - (4 * (y4[i] + k3) / (x[i] + (x[i+1] - x[i]))) + (1 / ((x[i] + (x[i+1] - x[i])) * ((y1[i] + m3))) * (2 * (x[i] + (x[i+1] - x[i])) * (y3[i] + l3)**2 + (y2[i] + n3) * (10 * (y3[i] + l3) + 3 * (x[i] + (x[i+1] - x[i])) * (y4[i] + k3))))) * (x[i+1] - x[i])\n",
    "    l4 = (y4[i] + (k3)) * (x[i+1] - x[i])\n",
    "    n4 = (y2[i] + (l3)) * (x[i+1] - x[i])\n",
    "    m4 = (y3[i] + (m3)) * (x[i+1] - x[i])\n",
    "\n",
    "    y4[i + 1] = y4[i] + (k1 + k2 + k3 + k4) / 6\n",
    "    y3[i + 1] = y3[i] + (l1 + l2 + l3 + l4) / 6\n",
    "    y2[i + 1] = y2[i] + (n1 + n2 + n3 + n4) / 6\n",
    "    y1[i + 1] = y1[i] + (m1 + m2 + m3 + m4) / 6"
   ]
  },
  {
   "cell_type": "code",
   "execution_count": 9,
   "metadata": {},
   "outputs": [
    {
     "data": {
      "image/png": "[encoded data removed]",
      "text/plain": [
       "<Figure size 432x288 with 1 Axes>"
      ]
     },
     "metadata": {
      "needs_background": "light"
     },
     "output_type": "display_data"
    }
   ],
   "source": [
    "plt.plot(x, y1)\n",
    "#plt.xlim(1, 8)\n",
    "plt.ylim(1e-5, y1[0] * 10)\n",
    "plt.yscale('log')\n",
    "plt.xscale('log')"
   ]
  },
  {
   "cell_type": "code",
   "execution_count": 861,
   "metadata": {},
   "outputs": [],
   "source": [
    "z = x**2 * y1"
   ]
  },
  {
   "cell_type": "code",
   "execution_count": 862,
   "metadata": {},
   "outputs": [],
   "source": [
    "N = 1e12 * const.M_sun.cgs.value / (4 * np.pi * integrate.simpson(z, x))"
   ]
  },
  {
   "cell_type": "code",
   "execution_count": 863,
   "metadata": {},
   "outputs": [],
   "source": [
    "rho = N * y1"
   ]
  },
  {
   "cell_type": "code",
   "execution_count": 864,
   "metadata": {},
   "outputs": [
    {
     "data": {
      "text/plain": [
       "[<matplotlib.lines.Line2D at 0x7f9e93d7e490>]"
      ]
     },
     "execution_count": 864,
     "metadata": {},
     "output_type": "execute_result"
    },
    {
     "data": {
      "image/png": "[encoded data removed]",
      "text/plain": [
       "<Figure size 432x288 with 1 Axes>"
      ]
     },
     "metadata": {
      "needs_background": "light"
     },
     "output_type": "display_data"
    }
   ],
   "source": [
    "plt.plot(x, rho)"
   ]
  },
  {
   "attachments": {},
   "cell_type": "markdown",
   "metadata": {},
   "source": [
    "$$\n",
    "\\al{\n",
    "    m{v_c\\fn{R}^2\\ov R} &= G{mM\\fn{R}\\ov R^2}\\nn\n",
    "    &= G{m\\ov R^2}\\pn{4\\pi\\int_0^R \\df r\\ r^2\\rho\\fn{r}}\n",
    "}\n",
    "$$\n",
    "Hence rotation velocity is given by\n",
    "$$\n",
    "\\al{\n",
    "    {v_c\\fn{R}} = \\sqrt{{4\\pi G\\ov R}{\\int_0^R \\df r\\ r^2\\rho\\fn{r}}}\n",
    "}\n",
    "$$"
   ]
  },
  {
   "cell_type": "code",
   "execution_count": 865,
   "metadata": {},
   "outputs": [],
   "source": [
    "def Vrot(R):\n",
    "    result = 4 * np.pi * const.G.cgs.value\n",
    "    result /= x[R+2]\n",
    "    Rlist = x[0:R+2]\n",
    "    rholist = rho[0:R+2]\n",
    "    integral = integrate.simpson(Rlist**2 * rholist, Rlist)\n",
    "    return np.sqrt(result * integral)"
   ]
  },
  {
   "cell_type": "code",
   "execution_count": 866,
   "metadata": {},
   "outputs": [
    {
     "ename": "KeyboardInterrupt",
     "evalue": "",
     "output_type": "error",
     "traceback": [
      "\u001b[0;31m---------------------------------------------------------------------------\u001b[0m",
      "\u001b[0;31mKeyboardInterrupt\u001b[0m                         Traceback (most recent call last)",
      "\u001b[0;32m<ipython-input-866-02ec5b72ab61>\u001b[0m in \u001b[0;36m<module>\u001b[0;34m\u001b[0m\n\u001b[1;32m      1\u001b[0m \u001b[0mrotVel\u001b[0m \u001b[0;34m=\u001b[0m \u001b[0mnp\u001b[0m\u001b[0;34m.\u001b[0m\u001b[0mndarray\u001b[0m\u001b[0;34m(\u001b[0m\u001b[0mslice\u001b[0m \u001b[0;34m-\u001b[0m \u001b[0;36m2\u001b[0m\u001b[0;34m)\u001b[0m\u001b[0;34m\u001b[0m\u001b[0;34m\u001b[0m\u001b[0m\n\u001b[1;32m      2\u001b[0m \u001b[0;32mfor\u001b[0m \u001b[0mi\u001b[0m \u001b[0;32min\u001b[0m \u001b[0mrange\u001b[0m\u001b[0;34m(\u001b[0m\u001b[0mslice\u001b[0m \u001b[0;34m-\u001b[0m \u001b[0;36m2\u001b[0m\u001b[0;34m)\u001b[0m\u001b[0;34m:\u001b[0m\u001b[0;34m\u001b[0m\u001b[0;34m\u001b[0m\u001b[0m\n\u001b[0;32m----> 3\u001b[0;31m     \u001b[0mrotVel\u001b[0m\u001b[0;34m[\u001b[0m\u001b[0mi\u001b[0m\u001b[0;34m]\u001b[0m \u001b[0;34m=\u001b[0m \u001b[0mVrot\u001b[0m\u001b[0;34m(\u001b[0m\u001b[0mi\u001b[0m\u001b[0;34m)\u001b[0m\u001b[0;34m\u001b[0m\u001b[0;34m\u001b[0m\u001b[0m\n\u001b[0m",
      "\u001b[0;32m<ipython-input-865-11c1b9f8505d>\u001b[0m in \u001b[0;36mVrot\u001b[0;34m(R)\u001b[0m\n\u001b[1;32m      4\u001b[0m     \u001b[0mRlist\u001b[0m \u001b[0;34m=\u001b[0m \u001b[0mx\u001b[0m\u001b[0;34m[\u001b[0m\u001b[0;36m0\u001b[0m\u001b[0;34m:\u001b[0m\u001b[0mR\u001b[0m\u001b[0;34m+\u001b[0m\u001b[0;36m2\u001b[0m\u001b[0;34m]\u001b[0m\u001b[0;34m\u001b[0m\u001b[0;34m\u001b[0m\u001b[0m\n\u001b[1;32m      5\u001b[0m     \u001b[0mrholist\u001b[0m \u001b[0;34m=\u001b[0m \u001b[0mrho\u001b[0m\u001b[0;34m[\u001b[0m\u001b[0;36m0\u001b[0m\u001b[0;34m:\u001b[0m\u001b[0mR\u001b[0m\u001b[0;34m+\u001b[0m\u001b[0;36m2\u001b[0m\u001b[0;34m]\u001b[0m\u001b[0;34m\u001b[0m\u001b[0;34m\u001b[0m\u001b[0m\n\u001b[0;32m----> 6\u001b[0;31m     \u001b[0mintegral\u001b[0m \u001b[0;34m=\u001b[0m \u001b[0mintegrate\u001b[0m\u001b[0;34m.\u001b[0m\u001b[0msimpson\u001b[0m\u001b[0;34m(\u001b[0m\u001b[0mRlist\u001b[0m\u001b[0;34m**\u001b[0m\u001b[0;36m2\u001b[0m \u001b[0;34m*\u001b[0m \u001b[0mrholist\u001b[0m\u001b[0;34m,\u001b[0m \u001b[0mRlist\u001b[0m\u001b[0;34m)\u001b[0m\u001b[0;34m\u001b[0m\u001b[0;34m\u001b[0m\u001b[0m\n\u001b[0m\u001b[1;32m      7\u001b[0m     \u001b[0;32mreturn\u001b[0m \u001b[0mnp\u001b[0m\u001b[0;34m.\u001b[0m\u001b[0msqrt\u001b[0m\u001b[0;34m(\u001b[0m\u001b[0mresult\u001b[0m \u001b[0;34m*\u001b[0m \u001b[0mintegral\u001b[0m\u001b[0;34m)\u001b[0m\u001b[0;34m\u001b[0m\u001b[0;34m\u001b[0m\u001b[0m\n",
      "\u001b[0;32m~/opt/anaconda3/lib/python3.8/site-packages/scipy/integrate/_quadrature.py\u001b[0m in \u001b[0;36msimpson\u001b[0;34m(y, x, dx, axis, even)\u001b[0m\n\u001b[1;32m    519\u001b[0m                 \u001b[0mlast_dx\u001b[0m \u001b[0;34m=\u001b[0m \u001b[0mx\u001b[0m\u001b[0;34m[\u001b[0m\u001b[0mslice1\u001b[0m\u001b[0;34m]\u001b[0m \u001b[0;34m-\u001b[0m \u001b[0mx\u001b[0m\u001b[0;34m[\u001b[0m\u001b[0mslice2\u001b[0m\u001b[0;34m]\u001b[0m\u001b[0;34m\u001b[0m\u001b[0;34m\u001b[0m\u001b[0m\n\u001b[1;32m    520\u001b[0m             \u001b[0mval\u001b[0m \u001b[0;34m+=\u001b[0m \u001b[0;36m0.5\u001b[0m\u001b[0;34m*\u001b[0m\u001b[0mlast_dx\u001b[0m\u001b[0;34m*\u001b[0m\u001b[0;34m(\u001b[0m\u001b[0my\u001b[0m\u001b[0;34m[\u001b[0m\u001b[0mslice1\u001b[0m\u001b[0;34m]\u001b[0m\u001b[0;34m+\u001b[0m\u001b[0my\u001b[0m\u001b[0;34m[\u001b[0m\u001b[0mslice2\u001b[0m\u001b[0;34m]\u001b[0m\u001b[0;34m)\u001b[0m\u001b[0;34m\u001b[0m\u001b[0;34m\u001b[0m\u001b[0m\n\u001b[0;32m--> 521\u001b[0;31m             \u001b[0mresult\u001b[0m \u001b[0;34m=\u001b[0m \u001b[0m_basic_simpson\u001b[0m\u001b[0;34m(\u001b[0m\u001b[0my\u001b[0m\u001b[0;34m,\u001b[0m \u001b[0;36m0\u001b[0m\u001b[0;34m,\u001b[0m \u001b[0mN\u001b[0m\u001b[0;34m-\u001b[0m\u001b[0;36m3\u001b[0m\u001b[0;34m,\u001b[0m \u001b[0mx\u001b[0m\u001b[0;34m,\u001b[0m \u001b[0mdx\u001b[0m\u001b[0;34m,\u001b[0m \u001b[0maxis\u001b[0m\u001b[0;34m)\u001b[0m\u001b[0;34m\u001b[0m\u001b[0;34m\u001b[0m\u001b[0m\n\u001b[0m\u001b[1;32m    522\u001b[0m         \u001b[0;31m# Compute using Simpson's rule on last set of intervals\u001b[0m\u001b[0;34m\u001b[0m\u001b[0;34m\u001b[0m\u001b[0;34m\u001b[0m\u001b[0m\n\u001b[1;32m    523\u001b[0m         \u001b[0;32mif\u001b[0m \u001b[0meven\u001b[0m \u001b[0;32min\u001b[0m \u001b[0;34m[\u001b[0m\u001b[0;34m'avg'\u001b[0m\u001b[0;34m,\u001b[0m \u001b[0;34m'last'\u001b[0m\u001b[0;34m]\u001b[0m\u001b[0;34m:\u001b[0m\u001b[0;34m\u001b[0m\u001b[0;34m\u001b[0m\u001b[0m\n",
      "\u001b[0;32m~/opt/anaconda3/lib/python3.8/site-packages/scipy/integrate/_quadrature.py\u001b[0m in \u001b[0;36m_basic_simpson\u001b[0;34m(y, start, stop, x, dx, axis)\u001b[0m\n\u001b[1;32m    396\u001b[0m         \u001b[0mhprod\u001b[0m \u001b[0;34m=\u001b[0m \u001b[0mh0\u001b[0m \u001b[0;34m*\u001b[0m \u001b[0mh1\u001b[0m\u001b[0;34m\u001b[0m\u001b[0;34m\u001b[0m\u001b[0m\n\u001b[1;32m    397\u001b[0m         \u001b[0mh0divh1\u001b[0m \u001b[0;34m=\u001b[0m \u001b[0mh0\u001b[0m \u001b[0;34m/\u001b[0m \u001b[0mh1\u001b[0m\u001b[0;34m\u001b[0m\u001b[0;34m\u001b[0m\u001b[0m\n\u001b[0;32m--> 398\u001b[0;31m         tmp = hsum/6.0 * (y[slice0]*(2-1.0/h0divh1) +\n\u001b[0m\u001b[1;32m    399\u001b[0m                           \u001b[0my\u001b[0m\u001b[0;34m[\u001b[0m\u001b[0mslice1\u001b[0m\u001b[0;34m]\u001b[0m\u001b[0;34m*\u001b[0m\u001b[0mhsum\u001b[0m\u001b[0;34m*\u001b[0m\u001b[0mhsum\u001b[0m\u001b[0;34m/\u001b[0m\u001b[0mhprod\u001b[0m \u001b[0;34m+\u001b[0m\u001b[0;34m\u001b[0m\u001b[0;34m\u001b[0m\u001b[0m\n\u001b[1;32m    400\u001b[0m                           y[slice2]*(2-h0divh1))\n",
      "\u001b[0;31mKeyboardInterrupt\u001b[0m: "
     ]
    }
   ],
   "source": [
    "rotVel = np.ndarray(slice - 2)\n",
    "for i in range(slice - 2):\n",
    "    rotVel[i] = Vrot(i)"
   ]
  },
  {
   "cell_type": "code",
   "execution_count": null,
   "metadata": {},
   "outputs": [
    {
     "data": {
      "image/png": "[encoded data removed]",
      "text/plain": [
       "<Figure size 432x288 with 1 Axes>"
      ]
     },
     "metadata": {
      "needs_background": "light"
     },
     "output_type": "display_data"
    }
   ],
   "source": [
    "plt.plot(x[1:slice - 1], rotVel)\n",
    "plt.yscale('log')\n",
    "plt.xscale('log')"
   ]
  },
  {
   "cell_type": "code",
   "execution_count": null,
   "metadata": {},
   "outputs": [],
   "source": [
    "x = np.linspace(1, 1000, 10000)\n",
    "y1 = np.linspace(1, 50, 10000)\n",
    "y1[0] = 1e-11\n",
    "y2 = np.linspace(1, 50, 10000)\n",
    "y2[0] = 0"
   ]
  },
  {
   "cell_type": "code",
   "execution_count": null,
   "metadata": {},
   "outputs": [],
   "source": [
    "for i in range(9999):\n",
    "    y2[i + 1] = y2[i] - (2/x[i] * y2[i] + (y1[i])**2) * (x[i+1] - x[i])\n",
    "    y1[i + 1] = y1[i] + y2[i] * (x[i+1] - x[i])"
   ]
  },
  {
   "cell_type": "code",
   "execution_count": null,
   "metadata": {},
   "outputs": [
    {
     "data": {
      "image/png": "[encoded data removed]",
      "text/plain": [
       "<Figure size 432x288 with 1 Axes>"
      ]
     },
     "metadata": {
      "needs_background": "light"
     },
     "output_type": "display_data"
    }
   ],
   "source": [
    "plt.plot(x, y1)\n",
    "plt.yscale('log')\n",
    "plt.xscale('log')"
   ]
  },
  {
   "cell_type": "code",
   "execution_count": null,
   "metadata": {},
   "outputs": [],
   "source": [
    "z = x**2 * y1"
   ]
  },
  {
   "cell_type": "code",
   "execution_count": null,
   "metadata": {},
   "outputs": [],
   "source": [
    "N = 1e12 * const.M_sun.cgs.value / (4 * np.pi * integrate.simpson(z, x))"
   ]
  },
  {
   "cell_type": "code",
   "execution_count": null,
   "metadata": {},
   "outputs": [],
   "source": [
    "rho = N * y1"
   ]
  },
  {
   "cell_type": "code",
   "execution_count": null,
   "metadata": {},
   "outputs": [
    {
     "data": {
      "text/plain": [
       "[<matplotlib.lines.Line2D at 0x7f9e93df4820>]"
      ]
     },
     "execution_count": 531,
     "metadata": {},
     "output_type": "execute_result"
    },
    {
     "data": {
      "image/png": "[encoded data removed]",
      "text/plain": [
       "<Figure size 432x288 with 1 Axes>"
      ]
     },
     "metadata": {
      "needs_background": "light"
     },
     "output_type": "display_data"
    }
   ],
   "source": [
    "plt.plot(x, rho)"
   ]
  },
  {
   "cell_type": "code",
   "execution_count": null,
   "metadata": {},
   "outputs": [],
   "source": [
    "def Vrot(R):\n",
    "    result = 4 * np.pi * const.G.cgs.value\n",
    "    result /= x[R+2]\n",
    "    Rlist = x[0:R+2]\n",
    "    rholist = rho[0:R+2]\n",
    "    integral = integrate.simpson(Rlist**2 * rholist, Rlist)\n",
    "    return np.sqrt(result * integral)"
   ]
  },
  {
   "cell_type": "code",
   "execution_count": null,
   "metadata": {},
   "outputs": [],
   "source": [
    "rotVel = np.ndarray(10000 - 2)\n",
    "for i in range(10000 - 2):\n",
    "    rotVel[i] = Vrot(i)"
   ]
  },
  {
   "cell_type": "code",
   "execution_count": null,
   "metadata": {},
   "outputs": [
    {
     "data": {
      "image/png": "[encoded data removed]",
      "text/plain": [
       "<Figure size 432x288 with 1 Axes>"
      ]
     },
     "metadata": {
      "needs_background": "light"
     },
     "output_type": "display_data"
    }
   ],
   "source": [
    "plt.plot(x[1:10000 - 1], rotVel)\n",
    "plt.yscale('log')\n",
    "plt.xscale('log')"
   ]
  },
  {
   "cell_type": "code",
   "execution_count": null,
   "metadata": {},
   "outputs": [],
   "source": []
  }
 ],
 "metadata": {
  "kernelspec": {
   "display_name": "base",
   "language": "python",
   "name": "python3"
  },
  "language_info": {
   "codemirror_mode": {
    "name": "ipython",
    "version": 3
   },
   "file_extension": ".py",
   "mimetype": "text/x-python",
   "name": "python",
   "nbconvert_exporter": "python",
   "pygments_lexer": "ipython3",
   "version": "3.8.8 (default, Apr 13 2021, 12:59:45) \n[Clang 10.0.0 ]"
  },
  "orig_nbformat": 4,
  "vscode": {
   "interpreter": {
    "hash": "33cb3d8d213d1cbd7539e9dd68bf5c369f4e784fb2f85ef7ae8127353423ec7b"
   }
  }
 },
 "nbformat": 4,
 "nbformat_minor": 2
}
