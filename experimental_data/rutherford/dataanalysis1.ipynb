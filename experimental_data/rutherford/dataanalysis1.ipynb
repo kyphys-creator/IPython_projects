{
  "nbformat": 4,
  "nbformat_minor": 0,
  "metadata": {
    "colab": {
      "name": "dataanalysis1.ipynb",
      "provenance": [],
      "collapsed_sections": [],
      "mount_file_id": "1dpIcfCFGx3m_lkpEEBSmv8ldXPieotRX",
      "authorship_tag": "ABX9TyOg+8oFiTYI1bvrD7Wzm57V",
      "include_colab_link": true
    },
    "kernelspec": {
      "name": "python3",
      "display_name": "Python 3"
    },
    "language_info": {
      "name": "python"
    }
  },
  "cells": [
    {
      "cell_type": "markdown",
      "metadata": {
        "id": "view-in-github",
        "colab_type": "text"
      },
      "source": [
        "<a href=\"https://colab.research.google.com/github/Yasuda5160/IPython_projects/blob/master/experimental_data/rutherford/dataanalysis1.ipynb\" target=\"_parent\"><img src=\"https://colab.research.google.com/assets/colab-badge.svg\" alt=\"Open In Colab\"/></a>"
      ]
    },
    {
      "cell_type": "code",
      "metadata": {
        "colab": {
          "base_uri": "https://localhost:8080/"
        },
        "id": "U9zZkv1aFniO",
        "outputId": "db81b54a-727b-4ece-dd98-d0fb57fe36de"
      },
      "source": [
        "# -*- coding: utf-8 -*-\n",
        "import pandas as pd\n",
        "from pandas import DataFrame, Series\n",
        "import numpy as np\n",
        "from numpy.random import randn, rand\n",
        "from matplotlib.pylab import close\n",
        "import matplotlib.pyplot as plt\n",
        "import sympy as sy\n",
        "#Input Sections\n",
        "which = input('Which kind of data file are you choosing? csv or dat format?: ')\n",
        "File1 = input('What is the name of your experimental data file?: ')\n",
        "File2 = input('What is the name of your experimental data file?: ')\n",
        "File3 = input('What is the name of your experimental data file?: ')\n",
        "\n",
        "#Importing basic data from a CSV-style experimental data file\n",
        "if (which == 'csv'):\n",
        "  df = pd.read_csv(File)\n",
        "elif (which == 'dat'):\n",
        "  df = pd.read_csv(File1, sep='\\s+')\n",
        "  df2 = pd.read_csv(File2, sep='\\s+')\n",
        "  df3 = pd.read_csv(File3, sep='\\s+')"
      ],
      "execution_count": 5,
      "outputs": [
        {
          "output_type": "stream",
          "text": [
            "Which kind of data file are you choosing? csv or dat format?: dat\n",
            "What is the name of your experimental data file?: /content/Rutherford_Data/2010140_pedestal.dat\n",
            "What is the name of your experimental data file?: /content/Rutherford_Data/2010141_nofoil.dat\n",
            "What is the name of your experimental data file?: /content/Rutherford_Data/2010142_withfoil.dat\n"
          ],
          "name": "stdout"
        }
      ]
    },
    {
      "cell_type": "code",
      "metadata": {
        "colab": {
          "base_uri": "https://localhost:8080/",
          "height": 300
        },
        "id": "ddkIF8UP_412",
        "outputId": "1d64124d-09c5-4d64-df16-a3f01b6f6f72"
      },
      "source": [
        "df.describe()"
      ],
      "execution_count": 6,
      "outputs": [
        {
          "output_type": "execute_result",
          "data": {
            "text/html": [
              "<div>\n",
              "<style scoped>\n",
              "    .dataframe tbody tr th:only-of-type {\n",
              "        vertical-align: middle;\n",
              "    }\n",
              "\n",
              "    .dataframe tbody tr th {\n",
              "        vertical-align: top;\n",
              "    }\n",
              "\n",
              "    .dataframe thead th {\n",
              "        text-align: right;\n",
              "    }\n",
              "</style>\n",
              "<table border=\"1\" class=\"dataframe\">\n",
              "  <thead>\n",
              "    <tr style=\"text-align: right;\">\n",
              "      <th></th>\n",
              "      <th>A1</th>\n",
              "      <th>A2</th>\n",
              "      <th>A3</th>\n",
              "      <th>A4</th>\n",
              "      <th>Cathode</th>\n",
              "    </tr>\n",
              "  </thead>\n",
              "  <tbody>\n",
              "    <tr>\n",
              "      <th>count</th>\n",
              "      <td>10175.000000</td>\n",
              "      <td>10175.000000</td>\n",
              "      <td>10175.000000</td>\n",
              "      <td>10175.000000</td>\n",
              "      <td>10175.000000</td>\n",
              "    </tr>\n",
              "    <tr>\n",
              "      <th>mean</th>\n",
              "      <td>785.139853</td>\n",
              "      <td>586.949877</td>\n",
              "      <td>497.045405</td>\n",
              "      <td>492.228010</td>\n",
              "      <td>443.207273</td>\n",
              "    </tr>\n",
              "    <tr>\n",
              "      <th>std</th>\n",
              "      <td>107.328905</td>\n",
              "      <td>97.724545</td>\n",
              "      <td>90.657679</td>\n",
              "      <td>83.637344</td>\n",
              "      <td>22.253578</td>\n",
              "    </tr>\n",
              "    <tr>\n",
              "      <th>min</th>\n",
              "      <td>489.000000</td>\n",
              "      <td>314.000000</td>\n",
              "      <td>360.000000</td>\n",
              "      <td>367.000000</td>\n",
              "      <td>407.000000</td>\n",
              "    </tr>\n",
              "    <tr>\n",
              "      <th>25%</th>\n",
              "      <td>710.000000</td>\n",
              "      <td>522.000000</td>\n",
              "      <td>428.000000</td>\n",
              "      <td>428.000000</td>\n",
              "      <td>432.000000</td>\n",
              "    </tr>\n",
              "    <tr>\n",
              "      <th>50%</th>\n",
              "      <td>775.000000</td>\n",
              "      <td>579.000000</td>\n",
              "      <td>486.000000</td>\n",
              "      <td>482.000000</td>\n",
              "      <td>441.000000</td>\n",
              "    </tr>\n",
              "    <tr>\n",
              "      <th>75%</th>\n",
              "      <td>850.000000</td>\n",
              "      <td>640.000000</td>\n",
              "      <td>553.000000</td>\n",
              "      <td>545.000000</td>\n",
              "      <td>451.000000</td>\n",
              "    </tr>\n",
              "    <tr>\n",
              "      <th>max</th>\n",
              "      <td>1586.000000</td>\n",
              "      <td>2396.000000</td>\n",
              "      <td>1029.000000</td>\n",
              "      <td>1442.000000</td>\n",
              "      <td>921.000000</td>\n",
              "    </tr>\n",
              "  </tbody>\n",
              "</table>\n",
              "</div>"
            ],
            "text/plain": [
              "                 A1            A2            A3            A4       Cathode\n",
              "count  10175.000000  10175.000000  10175.000000  10175.000000  10175.000000\n",
              "mean     785.139853    586.949877    497.045405    492.228010    443.207273\n",
              "std      107.328905     97.724545     90.657679     83.637344     22.253578\n",
              "min      489.000000    314.000000    360.000000    367.000000    407.000000\n",
              "25%      710.000000    522.000000    428.000000    428.000000    432.000000\n",
              "50%      775.000000    579.000000    486.000000    482.000000    441.000000\n",
              "75%      850.000000    640.000000    553.000000    545.000000    451.000000\n",
              "max     1586.000000   2396.000000   1029.000000   1442.000000    921.000000"
            ]
          },
          "metadata": {
            "tags": []
          },
          "execution_count": 6
        }
      ]
    },
    {
      "cell_type": "code",
      "metadata": {
        "colab": {
          "base_uri": "https://localhost:8080/",
          "height": 300
        },
        "id": "Rucnx5uuenOr",
        "outputId": "c5e36ada-2245-43ae-b6a4-3d761e88e019"
      },
      "source": [
        "df2.describe()"
      ],
      "execution_count": 7,
      "outputs": [
        {
          "output_type": "execute_result",
          "data": {
            "text/html": [
              "<div>\n",
              "<style scoped>\n",
              "    .dataframe tbody tr th:only-of-type {\n",
              "        vertical-align: middle;\n",
              "    }\n",
              "\n",
              "    .dataframe tbody tr th {\n",
              "        vertical-align: top;\n",
              "    }\n",
              "\n",
              "    .dataframe thead th {\n",
              "        text-align: right;\n",
              "    }\n",
              "</style>\n",
              "<table border=\"1\" class=\"dataframe\">\n",
              "  <thead>\n",
              "    <tr style=\"text-align: right;\">\n",
              "      <th></th>\n",
              "      <th>A1</th>\n",
              "      <th>A2</th>\n",
              "      <th>A3</th>\n",
              "      <th>A4</th>\n",
              "      <th>Cathode</th>\n",
              "    </tr>\n",
              "  </thead>\n",
              "  <tbody>\n",
              "    <tr>\n",
              "      <th>count</th>\n",
              "      <td>126137.000000</td>\n",
              "      <td>126137.000000</td>\n",
              "      <td>126137.000000</td>\n",
              "      <td>126137.000000</td>\n",
              "      <td>126137.000000</td>\n",
              "    </tr>\n",
              "    <tr>\n",
              "      <th>mean</th>\n",
              "      <td>2005.526578</td>\n",
              "      <td>1689.637172</td>\n",
              "      <td>1715.112917</td>\n",
              "      <td>1540.636039</td>\n",
              "      <td>2226.708642</td>\n",
              "    </tr>\n",
              "    <tr>\n",
              "      <th>std</th>\n",
              "      <td>183.265086</td>\n",
              "      <td>167.310085</td>\n",
              "      <td>178.581654</td>\n",
              "      <td>158.855080</td>\n",
              "      <td>92.623252</td>\n",
              "    </tr>\n",
              "    <tr>\n",
              "      <th>min</th>\n",
              "      <td>621.000000</td>\n",
              "      <td>464.000000</td>\n",
              "      <td>407.000000</td>\n",
              "      <td>407.000000</td>\n",
              "      <td>1248.000000</td>\n",
              "    </tr>\n",
              "    <tr>\n",
              "      <th>25%</th>\n",
              "      <td>1891.000000</td>\n",
              "      <td>1585.000000</td>\n",
              "      <td>1604.000000</td>\n",
              "      <td>1442.000000</td>\n",
              "      <td>2216.000000</td>\n",
              "    </tr>\n",
              "    <tr>\n",
              "      <th>50%</th>\n",
              "      <td>2008.000000</td>\n",
              "      <td>1694.000000</td>\n",
              "      <td>1718.000000</td>\n",
              "      <td>1543.000000</td>\n",
              "      <td>2241.000000</td>\n",
              "    </tr>\n",
              "    <tr>\n",
              "      <th>75%</th>\n",
              "      <td>2125.000000</td>\n",
              "      <td>1799.000000</td>\n",
              "      <td>1832.000000</td>\n",
              "      <td>1643.000000</td>\n",
              "      <td>2263.000000</td>\n",
              "    </tr>\n",
              "    <tr>\n",
              "      <th>max</th>\n",
              "      <td>4096.000000</td>\n",
              "      <td>4096.000000</td>\n",
              "      <td>3710.000000</td>\n",
              "      <td>4096.000000</td>\n",
              "      <td>4096.000000</td>\n",
              "    </tr>\n",
              "  </tbody>\n",
              "</table>\n",
              "</div>"
            ],
            "text/plain": [
              "                  A1             A2  ...             A4        Cathode\n",
              "count  126137.000000  126137.000000  ...  126137.000000  126137.000000\n",
              "mean     2005.526578    1689.637172  ...    1540.636039    2226.708642\n",
              "std       183.265086     167.310085  ...     158.855080      92.623252\n",
              "min       621.000000     464.000000  ...     407.000000    1248.000000\n",
              "25%      1891.000000    1585.000000  ...    1442.000000    2216.000000\n",
              "50%      2008.000000    1694.000000  ...    1543.000000    2241.000000\n",
              "75%      2125.000000    1799.000000  ...    1643.000000    2263.000000\n",
              "max      4096.000000    4096.000000  ...    4096.000000    4096.000000\n",
              "\n",
              "[8 rows x 5 columns]"
            ]
          },
          "metadata": {
            "tags": []
          },
          "execution_count": 7
        }
      ]
    },
    {
      "cell_type": "code",
      "metadata": {
        "colab": {
          "base_uri": "https://localhost:8080/",
          "height": 300
        },
        "id": "j0UtL4K5fO81",
        "outputId": "c171273c-c469-495a-ee1f-2fb4d8def993"
      },
      "source": [
        "df3.describe()"
      ],
      "execution_count": 8,
      "outputs": [
        {
          "output_type": "execute_result",
          "data": {
            "text/html": [
              "<div>\n",
              "<style scoped>\n",
              "    .dataframe tbody tr th:only-of-type {\n",
              "        vertical-align: middle;\n",
              "    }\n",
              "\n",
              "    .dataframe tbody tr th {\n",
              "        vertical-align: top;\n",
              "    }\n",
              "\n",
              "    .dataframe thead th {\n",
              "        text-align: right;\n",
              "    }\n",
              "</style>\n",
              "<table border=\"1\" class=\"dataframe\">\n",
              "  <thead>\n",
              "    <tr style=\"text-align: right;\">\n",
              "      <th></th>\n",
              "      <th>A1</th>\n",
              "      <th>A2</th>\n",
              "      <th>A3</th>\n",
              "      <th>A4</th>\n",
              "      <th>Cathode</th>\n",
              "    </tr>\n",
              "  </thead>\n",
              "  <tbody>\n",
              "    <tr>\n",
              "      <th>count</th>\n",
              "      <td>134299.000000</td>\n",
              "      <td>134299.000000</td>\n",
              "      <td>134299.000000</td>\n",
              "      <td>134299.000000</td>\n",
              "      <td>134299.000000</td>\n",
              "    </tr>\n",
              "    <tr>\n",
              "      <th>mean</th>\n",
              "      <td>1798.925003</td>\n",
              "      <td>1510.567346</td>\n",
              "      <td>1515.961965</td>\n",
              "      <td>1404.550816</td>\n",
              "      <td>1950.071058</td>\n",
              "    </tr>\n",
              "    <tr>\n",
              "      <th>std</th>\n",
              "      <td>235.875518</td>\n",
              "      <td>210.688555</td>\n",
              "      <td>225.909593</td>\n",
              "      <td>206.158143</td>\n",
              "      <td>189.224704</td>\n",
              "    </tr>\n",
              "    <tr>\n",
              "      <th>min</th>\n",
              "      <td>513.000000</td>\n",
              "      <td>303.000000</td>\n",
              "      <td>362.000000</td>\n",
              "      <td>370.000000</td>\n",
              "      <td>565.000000</td>\n",
              "    </tr>\n",
              "    <tr>\n",
              "      <th>25%</th>\n",
              "      <td>1684.000000</td>\n",
              "      <td>1406.000000</td>\n",
              "      <td>1404.000000</td>\n",
              "      <td>1301.000000</td>\n",
              "      <td>1943.000000</td>\n",
              "    </tr>\n",
              "    <tr>\n",
              "      <th>50%</th>\n",
              "      <td>1814.000000</td>\n",
              "      <td>1524.000000</td>\n",
              "      <td>1530.000000</td>\n",
              "      <td>1418.000000</td>\n",
              "      <td>1989.000000</td>\n",
              "    </tr>\n",
              "    <tr>\n",
              "      <th>75%</th>\n",
              "      <td>1941.000000</td>\n",
              "      <td>1638.000000</td>\n",
              "      <td>1653.000000</td>\n",
              "      <td>1530.000000</td>\n",
              "      <td>2027.000000</td>\n",
              "    </tr>\n",
              "    <tr>\n",
              "      <th>max</th>\n",
              "      <td>4096.000000</td>\n",
              "      <td>4096.000000</td>\n",
              "      <td>4096.000000</td>\n",
              "      <td>4096.000000</td>\n",
              "      <td>4096.000000</td>\n",
              "    </tr>\n",
              "  </tbody>\n",
              "</table>\n",
              "</div>"
            ],
            "text/plain": [
              "                  A1             A2  ...             A4        Cathode\n",
              "count  134299.000000  134299.000000  ...  134299.000000  134299.000000\n",
              "mean     1798.925003    1510.567346  ...    1404.550816    1950.071058\n",
              "std       235.875518     210.688555  ...     206.158143     189.224704\n",
              "min       513.000000     303.000000  ...     370.000000     565.000000\n",
              "25%      1684.000000    1406.000000  ...    1301.000000    1943.000000\n",
              "50%      1814.000000    1524.000000  ...    1418.000000    1989.000000\n",
              "75%      1941.000000    1638.000000  ...    1530.000000    2027.000000\n",
              "max      4096.000000    4096.000000  ...    4096.000000    4096.000000\n",
              "\n",
              "[8 rows x 5 columns]"
            ]
          },
          "metadata": {
            "tags": []
          },
          "execution_count": 8
        }
      ]
    },
    {
      "cell_type": "code",
      "metadata": {
        "id": "__2SgIAOq3ha",
        "colab": {
          "base_uri": "https://localhost:8080/",
          "height": 265
        },
        "outputId": "cdab33bc-2762-41f2-b372-f0ab334107b4"
      },
      "source": [
        "df['Cathode'].hist(bins = 500, log = 1); # 基数の数を1000個にする  \n",
        "plt.savefig(\"Pedestal_Cathode_histgram_log.png\")"
      ],
      "execution_count": 9,
      "outputs": [
        {
          "output_type": "display_data",
          "data": {
            "image/png": "[encoded data removed]",
            "text/plain": [
              "<Figure size 432x288 with 1 Axes>"
            ]
          },
          "metadata": {
            "tags": [],
            "needs_background": "light"
          }
        }
      ]
    },
    {
      "cell_type": "code",
      "metadata": {
        "colab": {
          "base_uri": "https://localhost:8080/",
          "height": 265
        },
        "id": "46l_9Q1vfXyJ",
        "outputId": "dc82e938-827c-4958-ac1c-4c2f70502da5"
      },
      "source": [
        "df2['Cathode'].hist(bins = 500, log = 1); # 基数の数を1000個にする  \n",
        "plt.savefig(\"Nofoil_Cathode_histgram_log.png\")"
      ],
      "execution_count": 10,
      "outputs": [
        {
          "output_type": "display_data",
          "data": {
            "image/png": "[encoded data removed]",
            "text/plain": [
              "<Figure size 432x288 with 1 Axes>"
            ]
          },
          "metadata": {
            "tags": [],
            "needs_background": "light"
          }
        }
      ]
    },
    {
      "cell_type": "code",
      "metadata": {
        "colab": {
          "base_uri": "https://localhost:8080/",
          "height": 265
        },
        "id": "7Gu6xdacfcSj",
        "outputId": "696576b5-7e28-4d9e-ad8f-90831c32c19a"
      },
      "source": [
        "df3['Cathode'].hist(bins = 500, log = 1); # 基数の数を1000個にする  \n",
        "plt.savefig(\"Withfoil_Cathode_histgram_log.png\")"
      ],
      "execution_count": 11,
      "outputs": [
        {
          "output_type": "display_data",
          "data": {
            "image/png": "[encoded data removed]",
            "text/plain": [
              "<Figure size 432x288 with 1 Axes>"
            ]
          },
          "metadata": {
            "tags": [],
            "needs_background": "light"
          }
        }
      ]
    },
    {
      "cell_type": "code",
      "metadata": {
        "id": "RF6UkcO0mOyX",
        "colab": {
          "base_uri": "https://localhost:8080/",
          "height": 108
        },
        "outputId": "835b3c23-0ea8-4097-9a33-db0532c581aa"
      },
      "source": [
        "\"\"\"\n",
        "Error Propagation Law for arbitrary functions f(x, y)\n",
        "import math\n",
        "x, y = sy.symbols(\"x y\")\n",
        "function = input(\"f(x,y)= \")\n",
        "f = eval(function)\n",
        "err_f = math.sqrt(errdf0**2 * (sy.diff(f, x).subs([(x, df[df.columns[xaxisdata]].mean()), (y, df[df.columns[yaxisdata]].mean())]))**2 + errdf1**2 * (sy.diff(f, y).subs([(x, df[df.columns[xaxisdata]].mean()), (y, df[df.columns[yaxisdata]].mean())]))**2)\n",
        "\n",
        "#Creating a new columns for some indirect observables\n",
        "def indirect(frame):\n",
        "    return f.subs([(x, frame.iloc[xaxisdata]), (y, frame.iloc[yaxisdata])])\n",
        "df['f(x, y)'] = df.apply(indirect, axis = 1)\n",
        "\"\"\""
      ],
      "execution_count": 12,
      "outputs": [
        {
          "output_type": "execute_result",
          "data": {
            "application/vnd.google.colaboratory.intrinsic+json": {
              "type": "string"
            },
            "text/plain": [
              "'\\nError Propagation Law for arbitrary functions f(x, y)\\nimport math\\nx, y = sy.symbols(\"x y\")\\nfunction = input(\"f(x,y)= \")\\nf = eval(function)\\nerr_f = math.sqrt(errdf0**2 * (sy.diff(f, x).subs([(x, df[df.columns[xaxisdata]].mean()), (y, df[df.columns[yaxisdata]].mean())]))**2 + errdf1**2 * (sy.diff(f, y).subs([(x, df[df.columns[xaxisdata]].mean()), (y, df[df.columns[yaxisdata]].mean())]))**2)\\n\\n#Creating a new columns for some indirect observables\\ndef indirect(frame):\\n    return f.subs([(x, frame.iloc[xaxisdata]), (y, frame.iloc[yaxisdata])])\\ndf[\\'f(x, y)\\'] = df.apply(indirect, axis = 1)\\n'"
            ]
          },
          "metadata": {
            "tags": []
          },
          "execution_count": 12
        }
      ]
    },
    {
      "cell_type": "code",
      "metadata": {
        "colab": {
          "base_uri": "https://localhost:8080/",
          "height": 404
        },
        "id": "bt9OMGNkG2I0",
        "outputId": "fcb6d8e1-e18e-44c0-ac9a-3800bde618c2"
      },
      "source": [
        "\n",
        "xaxisdata = input('Which Columns do you want to use for x axis to this Data plotting?')\n",
        "yaxisdata = input('Which Columns do you want to use for y axis to this Data plotting?')\n",
        "Title = input('What is the title of your Graph?: ')\n",
        "Xlabel = input('What is the label of x axis?: ')\n",
        "Ylabel = input('What is the label of y axis?: ')\n",
        "\n",
        "xaxisdata = int(xaxisdata)\n",
        "yaxisdata = int(yaxisdata)\n",
        "df = df[df > 0]\n",
        "num = len(df)\n",
        "Xstd = df[df.columns[xaxisdata]].std()\n",
        "Ystd = df[df.columns[yaxisdata]].std()\n",
        "\n",
        "#Errors for direct observables\n",
        "err_df0 = DataFrame(Xstd/np.sqrt(num -1), index=range(num), columns=[df.columns[xaxisdata], df.columns[yaxisdata]])\n",
        "err_df1 =  DataFrame(Ystd/np.sqrt(num - 1), index=range(num), columns=[df.columns[xaxisdata], df.columns[yaxisdata]])\n",
        "#Preparing Plotting Figure & Environment\n",
        "fig, axes = plt.subplots(constrained_layout = True, facecolor = 'white')\n",
        "axes.axis([df[df.columns[xaxisdata]].min() - 40, df[df.columns[xaxisdata]].max() + 40, df[df.columns[yaxisdata]].min() - 1, df[df.columns[yaxisdata]].max() + 1])\n",
        "\n",
        "#Creating Scatter Graph of Experimental Data\n",
        "df.plot(kind='scatter', x=df.columns[xaxisdata], y=df.columns[yaxisdata], xerr=err_df0, yerr=err_df1, ax=axes,label = 'Data Plotting')\n",
        "axes.set_title(Title, fontsize = 14)\n",
        "axes.set_xlabel(Xlabel, fontsize = 13)\n",
        "axes.set_ylabel(Ylabel, fontsize = 13)\n",
        "axes.legend()\n",
        "plt.savefig(\"figure.png\", transparent=True)"
      ],
      "execution_count": 13,
      "outputs": [
        {
          "output_type": "stream",
          "text": [
            "Which Columns do you want to use for x axis to this Data plotting?2\n",
            "Which Columns do you want to use for y axis to this Data plotting?3\n",
            "What is the title of your Graph?: title\n",
            "What is the label of x axis?: xaxis\n",
            "What is the label of y axis?: yaxis\n"
          ],
          "name": "stdout"
        },
        {
          "output_type": "display_data",
          "data": {
            "image/png": "[encoded data removed]",
            "text/plain": [
              "<Figure size 432x288 with 1 Axes>"
            ]
          },
          "metadata": {
            "tags": []
          }
        }
      ]
    },
    {
      "cell_type": "code",
      "metadata": {
        "id": "of8oSeT8kca_",
        "colab": {
          "base_uri": "https://localhost:8080/",
          "height": 126
        },
        "outputId": "0de7843b-9bee-482f-b445-03a812e6e922"
      },
      "source": [
        "\"\"\"\n",
        "#Linear Estimation by using Least Squared Regression\n",
        "df2 = df[df.columns[xaxisdata]] * df[df.columns[yaxisdata]]\n",
        "df22 = pd.DataFrame({'Covariance': df2})\n",
        "df3 = pd.concat([df, df22], axis = 1)\n",
        "Cov = df22.mean() - df[df.columns[xaxisdata]].mean() * df[df.columns[yaxisdata]].mean()\n",
        "a = Cov / (df[df.columns[xaxisdata]].std())**2\n",
        "b = - a * df[df.columns[xaxisdata]].mean() + df[df.columns[yaxisdata]].mean()\n",
        "x1 = np.linspace(df[df.columns[xaxisdata]].min() - 20, df[df.columns[xaxisdata]].max() + 20, 100)\n",
        "l = a.values[0]\n",
        "k = b.values[0]\n",
        "errdf0 = err_df0.values[0][0]\n",
        "errdf1 = err_df1.values[0][0]\n",
        "y1 = l * x1 + k\n",
        "\n",
        "#Plotting on the Scatter Graph\n",
        "axes.plot(x1, y1, color = '#ff7f00', label = 'Linear Estimation')\n",
        "axes.legend()\n",
        "\n",
        "#Identification of the regression line\n",
        "x = sy.symbols('x')\n",
        "eq = l * x + k\n",
        "print(eq)\n",
        "print(err_f)\n",
        "\"\"\""
      ],
      "execution_count": 14,
      "outputs": [
        {
          "output_type": "execute_result",
          "data": {
            "application/vnd.google.colaboratory.intrinsic+json": {
              "type": "string"
            },
            "text/plain": [
              "\"\\n#Linear Estimation by using Least Squared Regression\\ndf2 = df[df.columns[xaxisdata]] * df[df.columns[yaxisdata]]\\ndf22 = pd.DataFrame({'Covariance': df2})\\ndf3 = pd.concat([df, df22], axis = 1)\\nCov = df22.mean() - df[df.columns[xaxisdata]].mean() * df[df.columns[yaxisdata]].mean()\\na = Cov / (df[df.columns[xaxisdata]].std())**2\\nb = - a * df[df.columns[xaxisdata]].mean() + df[df.columns[yaxisdata]].mean()\\nx1 = np.linspace(df[df.columns[xaxisdata]].min() - 20, df[df.columns[xaxisdata]].max() + 20, 100)\\nl = a.values[0]\\nk = b.values[0]\\nerrdf0 = err_df0.values[0][0]\\nerrdf1 = err_df1.values[0][0]\\ny1 = l * x1 + k\\n\\n#Plotting on the Scatter Graph\\naxes.plot(x1, y1, color = '#ff7f00', label = 'Linear Estimation')\\naxes.legend()\\n\\n#Identification of the regression line\\nx = sy.symbols('x')\\neq = l * x + k\\nprint(eq)\\nprint(err_f)\\n\""
            ]
          },
          "metadata": {
            "tags": []
          },
          "execution_count": 14
        }
      ]
    },
    {
      "cell_type": "code",
      "metadata": {
        "id": "6LwOZm-v1mw5",
        "colab": {
          "base_uri": "https://localhost:8080/",
          "height": 300
        },
        "outputId": "6a4485e3-b26d-4a14-c6cf-12d6cb80da49"
      },
      "source": [
        "df4 = (df3 - df).dropna(how='all')\n",
        "df4.describe()"
      ],
      "execution_count": 15,
      "outputs": [
        {
          "output_type": "execute_result",
          "data": {
            "text/html": [
              "<div>\n",
              "<style scoped>\n",
              "    .dataframe tbody tr th:only-of-type {\n",
              "        vertical-align: middle;\n",
              "    }\n",
              "\n",
              "    .dataframe tbody tr th {\n",
              "        vertical-align: top;\n",
              "    }\n",
              "\n",
              "    .dataframe thead th {\n",
              "        text-align: right;\n",
              "    }\n",
              "</style>\n",
              "<table border=\"1\" class=\"dataframe\">\n",
              "  <thead>\n",
              "    <tr style=\"text-align: right;\">\n",
              "      <th></th>\n",
              "      <th>A1</th>\n",
              "      <th>A2</th>\n",
              "      <th>A3</th>\n",
              "      <th>A4</th>\n",
              "      <th>Cathode</th>\n",
              "    </tr>\n",
              "  </thead>\n",
              "  <tbody>\n",
              "    <tr>\n",
              "      <th>count</th>\n",
              "      <td>10175.000000</td>\n",
              "      <td>10175.000000</td>\n",
              "      <td>10175.000000</td>\n",
              "      <td>10175.000000</td>\n",
              "      <td>10175.000000</td>\n",
              "    </tr>\n",
              "    <tr>\n",
              "      <th>mean</th>\n",
              "      <td>1010.528452</td>\n",
              "      <td>922.563047</td>\n",
              "      <td>1013.813956</td>\n",
              "      <td>904.802948</td>\n",
              "      <td>1492.404226</td>\n",
              "    </tr>\n",
              "    <tr>\n",
              "      <th>std</th>\n",
              "      <td>255.343507</td>\n",
              "      <td>228.928195</td>\n",
              "      <td>238.273290</td>\n",
              "      <td>219.880051</td>\n",
              "      <td>184.417565</td>\n",
              "    </tr>\n",
              "    <tr>\n",
              "      <th>min</th>\n",
              "      <td>-285.000000</td>\n",
              "      <td>-571.000000</td>\n",
              "      <td>-247.000000</td>\n",
              "      <td>-175.000000</td>\n",
              "      <td>173.000000</td>\n",
              "    </tr>\n",
              "    <tr>\n",
              "      <th>25%</th>\n",
              "      <td>874.500000</td>\n",
              "      <td>800.000000</td>\n",
              "      <td>883.000000</td>\n",
              "      <td>791.000000</td>\n",
              "      <td>1484.500000</td>\n",
              "    </tr>\n",
              "    <tr>\n",
              "      <th>50%</th>\n",
              "      <td>1031.000000</td>\n",
              "      <td>936.000000</td>\n",
              "      <td>1027.000000</td>\n",
              "      <td>919.000000</td>\n",
              "      <td>1531.000000</td>\n",
              "    </tr>\n",
              "    <tr>\n",
              "      <th>75%</th>\n",
              "      <td>1173.500000</td>\n",
              "      <td>1069.000000</td>\n",
              "      <td>1169.000000</td>\n",
              "      <td>1039.000000</td>\n",
              "      <td>1568.000000</td>\n",
              "    </tr>\n",
              "    <tr>\n",
              "      <th>max</th>\n",
              "      <td>2928.000000</td>\n",
              "      <td>3206.000000</td>\n",
              "      <td>2396.000000</td>\n",
              "      <td>3632.000000</td>\n",
              "      <td>3606.000000</td>\n",
              "    </tr>\n",
              "  </tbody>\n",
              "</table>\n",
              "</div>"
            ],
            "text/plain": [
              "                 A1            A2            A3            A4       Cathode\n",
              "count  10175.000000  10175.000000  10175.000000  10175.000000  10175.000000\n",
              "mean    1010.528452    922.563047   1013.813956    904.802948   1492.404226\n",
              "std      255.343507    228.928195    238.273290    219.880051    184.417565\n",
              "min     -285.000000   -571.000000   -247.000000   -175.000000    173.000000\n",
              "25%      874.500000    800.000000    883.000000    791.000000   1484.500000\n",
              "50%     1031.000000    936.000000   1027.000000    919.000000   1531.000000\n",
              "75%     1173.500000   1069.000000   1169.000000   1039.000000   1568.000000\n",
              "max     2928.000000   3206.000000   2396.000000   3632.000000   3606.000000"
            ]
          },
          "metadata": {
            "tags": []
          },
          "execution_count": 15
        }
      ]
    },
    {
      "cell_type": "code",
      "metadata": {
        "id": "XhzmZOUe1nn1",
        "colab": {
          "base_uri": "https://localhost:8080/",
          "height": 265
        },
        "outputId": "eb3e8e6f-463d-44b1-9e58-ce2131fdbb0e"
      },
      "source": [
        "df4['Cathode'].hist(bins = 500, log = 1); # 基数の数を1000個にする  \n",
        "plt.savefig(\"Nofoil_error_subtraction.png\")"
      ],
      "execution_count": 16,
      "outputs": [
        {
          "output_type": "display_data",
          "data": {
            "image/png": "[encoded data removed]",
            "text/plain": [
              "<Figure size 432x288 with 1 Axes>"
            ]
          },
          "metadata": {
            "tags": [],
            "needs_background": "light"
          }
        }
      ]
    }
  ]
}