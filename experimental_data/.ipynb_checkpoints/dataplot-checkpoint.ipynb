{
 "cells": [
  {
   "cell_type": "code",
   "execution_count": 6,
   "metadata": {},
   "outputs": [
    {
     "name": "stdin",
     "output_type": "stream",
     "text": [
      "What is the name of your experiment data?:  out_pd.csv\n",
      "Which Columns do you want to use for x axis to this Data plotting? 0\n",
      "Which Columns do you want to use for y axis to this Data plotting? 1\n",
      "What is the title of your Graph?:  hf\n",
      "What is the label of x axis?:  \n",
      "What is the label of y axis?:  r\n"
     ]
    },
    {
     "data": {
      "image/png": "[encoded data removed]",
      "text/plain": [
       "<Figure size 432x288 with 1 Axes>"
      ]
     },
     "metadata": {},
     "output_type": "display_data"
    }
   ],
   "source": [
    "# -*- coding: utf-8 -*-\n",
    "import pandas as pd\n",
    "from pandas import DataFrame, Series\n",
    "import numpy as np\n",
    "from numpy.random import randn, rand\n",
    "from matplotlib.pylab import close\n",
    "import matplotlib.pyplot as plt \n",
    "#Input Sections\n",
    "File = input('What is the name of your experiment data?: ')\n",
    "xaxisdata = input('Which Columns do you want to use for x axis to this Data plotting?')\n",
    "yaxisdata = input('Which Columns do you want to use for y axis to this Data plotting?')\n",
    "Title = input('What is the title of your Graph?: ')\n",
    "Xlabel = input('What is the label of x axis?: ')\n",
    "Ylabel = input('What is the label of y axis?: ')\n",
    "\n",
    "xaxisdata = int(xaxisdata)\n",
    "yaxisdata = int(yaxisdata)\n",
    "df = pd.read_csv(File)\n",
    "df = df[df > 0]\n",
    "num = len(df)\n",
    "Xstd = df[df.columns[xaxisdata]].std()\n",
    "Ystd = df[df.columns[yaxisdata]].std()\n",
    "\n",
    "# errors\n",
    "err_df0 = DataFrame(Xstd/np.sqrt(num -1), index=range(num), columns=[df.columns[xaxisdata], df.columns[yaxisdata]])\n",
    "err_df1 =  DataFrame(Ystd/np.sqrt(num - 1), index=range(num), columns=[df.columns[xaxisdata], df.columns[yaxisdata]])\n",
    "\n",
    "#Preparing Plotting Figure & Environment\n",
    "fig, axes = plt.subplots(constrained_layout = True, facecolor = 'white')\n",
    "axes.axis([df[df.columns[xaxisdata]].min() - 40, df[df.columns[xaxisdata]].max() + 40, df[df.columns[yaxisdata]].min() - 3, df[df.columns[yaxisdata]].max() + 3])\n",
    "\n",
    "#Creating Scatter Graph of Experiment Data\n",
    "df.plot(kind='scatter', x=df.columns[xaxisdata], y=df.columns[yaxisdata], xerr=err_df0, yerr=err_df1, ax=axes,label = 'Data Plotting')\n",
    "axes.set_title(Title, fontsize = 14)\n",
    "axes.set_xlabel(Xlabel, fontsize = 13)\n",
    "axes.set_ylabel(Ylabel, fontsize = 13)\n",
    "\n",
    "#Linear Estimation by using Least Squared Regression\n",
    "df2 = df[df.columns[xaxisdata]] * df[df.columns[yaxisdata]]\n",
    "df22 = pd.DataFrame({'Covariance': df2})\n",
    "df3 = pd.concat([df, df22], axis = 1)\n",
    "Cov = df22.mean() - df[df.columns[xaxisdata]].mean() * df[df.columns[yaxisdata]].mean()\n",
    "a = Cov / (df[df.columns[xaxisdata]].std())**2\n",
    "b = - a * df[df.columns[xaxisdata]].mean() + df[df.columns[yaxisdata]].mean()\n",
    "x1 = np.linspace(df[df.columns[xaxisdata]].min() - 20, df[df.columns[xaxisdata]].max() + 20, 100)\n",
    "l = a.values[0]\n",
    "k = b.values[0]\n",
    "errdf0 = err_df0.values[0][0]\n",
    "errdf1 = err_df1.values[0][0]\n",
    "y1 = l * x1 + k\n",
    "\n",
    "#Plotting on the Scatter Graph\n",
    "axes.plot(x1, y1, color = '#ff7f00', label = 'Linear Estimation')\n",
    "axes.legend()\n",
    "plt.show()"
   ]
  },
  {
   "cell_type": "code",
   "execution_count": 15,
   "metadata": {},
   "outputs": [
    {
     "data": {
      "text/latex": [
       "$\\displaystyle 0.0244873658011096$"
      ],
      "text/plain": [
       "0.0244873658011096"
      ]
     },
     "execution_count": 15,
     "metadata": {},
     "output_type": "execute_result"
    }
   ],
   "source": [
    "from sympy import *\n",
    "x = symbols('x')\n",
    "eq = l * x + k\n",
    "diff(eq, x)"
   ]
  },
  {
   "cell_type": "code",
   "execution_count": 29,
   "metadata": {},
   "outputs": [
    {
     "name": "stdin",
     "output_type": "stream",
     "text": [
      "f(x,y)=  exp(x + y)\n"
     ]
    },
    {
     "data": {
      "text/plain": [
       "2.2650235795136127e+75"
      ]
     },
     "execution_count": 29,
     "metadata": {},
     "output_type": "execute_result"
    }
   ],
   "source": [
    "from sympy import *\n",
    "import math\n",
    "#calculation of standard deviations for basic arithmetics\n",
    "#addition x + y\n",
    "x, y = symbols(\"x y\")\n",
    "function = input(\"f(x,y)= \")\n",
    "f = eval(function)\n",
    "err_f = math.sqrt(errdf0**2 * (diff(f, x).subs([(x, df[df.columns[xaxisdata]].mean()), (y, df[df.columns[yaxisdata]].mean())]))**2 + errdf1**2 * (diff(f, y).subs([(x, df[df.columns[xaxisdata]].mean()), (y, df[df.columns[yaxisdata]].mean())]))**2)\n",
    "err_f"
   ]
  }
 ],
 "metadata": {
  "kernelspec": {
   "display_name": "Python 3",
   "language": "python",
   "name": "python3"
  },
  "language_info": {
   "codemirror_mode": {
    "name": "ipython",
    "version": 3
   },
   "file_extension": ".py",
   "mimetype": "text/x-python",
   "name": "python",
   "nbconvert_exporter": "python",
   "pygments_lexer": "ipython3",
   "version": "3.8.3"
  }
 },
 "nbformat": 4,
 "nbformat_minor": 4
}
